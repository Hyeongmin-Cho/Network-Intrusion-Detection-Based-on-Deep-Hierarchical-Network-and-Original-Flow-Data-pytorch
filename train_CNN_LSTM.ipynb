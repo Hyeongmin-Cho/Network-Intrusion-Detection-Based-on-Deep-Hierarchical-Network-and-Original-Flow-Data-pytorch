{
 "cells": [
  {
   "cell_type": "code",
   "execution_count": 1,
   "metadata": {},
   "outputs": [],
   "source": [
    "import sys\n",
    "import os\n",
    "import torch\n",
    "import torch.nn as nn\n",
    "import torch.optim as optim\n",
    "import torch.nn.functional as F\n",
    "from torch.utils.data import DataLoader, Dataset\n",
    "import numpy as np\n",
    "from tqdm.notebook import tqdm\n",
    "import argparse\n",
    "import pickle\n",
    "import random\n",
    "from utils import PklsFolder\n",
    "from model import C_LSTM\n",
    "\n",
    "def normalize(x):\n",
    "    return (x / 255) -0.5\n",
    "\n",
    "def denormalize(x):\n",
    "    return (x + 0.5) * 255"
   ]
  },
  {
   "cell_type": "code",
   "execution_count": 2,
   "metadata": {},
   "outputs": [],
   "source": [
    "seed = 0\n",
    "torch.manual_seed(seed)\n",
    "torch.cuda.manual_seed(seed)\n",
    "torch.cuda.manual_seed_all(seed)\n",
    "torch.backends.cudnn.deterministic = True\n",
    "torch.backends.cudnn.benchmark = False\n",
    "np.random.seed(seed)\n",
    "random.seed(seed)\n",
    "\n",
    "train_set_idx = np.load('')\n",
    "flow_dataset = PklsFolder('')"
   ]
  },
  {
   "cell_type": "code",
   "execution_count": 3,
   "metadata": {},
   "outputs": [
    {
     "data": {
      "text/plain": [
       "(True, 59877)"
      ]
     },
     "execution_count": 3,
     "metadata": {},
     "output_type": "execute_result"
    }
   ],
   "source": [
    "len(train_set_idx)==59877, len(train_set_idx)"
   ]
  },
  {
   "cell_type": "code",
   "execution_count": 8,
   "metadata": {},
   "outputs": [],
   "source": [
    "#training param\n",
    "batch_size = 128\n",
    "num_epoch = 150 # In the paper, this value is 1.\n",
    "\n",
    "train_random_sampler = torch.utils.data.SubsetRandomSampler(train_set_idx)\n",
    "train_dataloader = DataLoader(flow_dataset, batch_size = batch_size, shuffle = False,  sampler = train_random_sampler)\n"
   ]
  },
  {
   "cell_type": "code",
   "execution_count": 9,
   "metadata": {},
   "outputs": [],
   "source": [
    "device = torch.device(\"cuda\" if torch.cuda.is_available() else \"cpu\")"
   ]
  },
  {
   "cell_type": "code",
   "execution_count": 10,
   "metadata": {},
   "outputs": [],
   "source": [
    "model = C_LSTM().to(device)\n",
    "criterion = torch.nn.BCELoss()  #BCELoss\n",
    "optimizer = optim.Adam(model.parameters(), lr=1e-4)"
   ]
  },
  {
   "cell_type": "code",
   "execution_count": 11,
   "metadata": {
    "scrolled": true
   },
   "outputs": [
    {
     "data": {
      "application/vnd.jupyter.widget-view+json": {
       "model_id": "9a2bf0d30cb147c1b5d216cef4b18233",
       "version_major": 2,
       "version_minor": 0
      },
      "text/plain": [
       "  0%|          | 0/468 [00:00<?, ?it/s]"
      ]
     },
     "metadata": {},
     "output_type": "display_data"
    },
    {
     "name": "stderr",
     "output_type": "stream",
     "text": [
      "/opt/conda/lib/python3.7/site-packages/torch/nn/functional.py:718: UserWarning: Named tensors and all their associated APIs are an experimental feature and subject to change. Please do not use them for anything important until they are released as stable. (Triggered internally at  /pytorch/c10/core/TensorImpl.h:1156.)\n",
      "  return torch.max_pool2d(input, kernel_size, stride, padding, dilation, ceil_mode)\n"
     ]
    },
    {
     "name": "stdout",
     "output_type": "stream",
     "text": [
      " iter : 100 avg_loss : 0.4535064724087715\n",
      " iter : 200 avg_loss : 0.3319469366967678\n",
      " iter : 300 avg_loss : 0.26296752590686084\n",
      " iter : 400 avg_loss : 0.22208439881913364\n",
      "epoch : 1, total train loss : 94.78982685692608\n"
     ]
    },
    {
     "data": {
      "application/vnd.jupyter.widget-view+json": {
       "model_id": "0bf7cff4966444659b5d445405697e51",
       "version_major": 2,
       "version_minor": 0
      },
      "text/plain": [
       "  0%|          | 0/468 [00:00<?, ?it/s]"
      ]
     },
     "metadata": {},
     "output_type": "display_data"
    },
    {
     "name": "stdout",
     "output_type": "stream",
     "text": [
      " iter : 100 avg_loss : 0.07384871578775347\n",
      " iter : 200 avg_loss : 0.06750886833760887\n",
      " iter : 300 avg_loss : 0.06374282008036972\n",
      " iter : 400 avg_loss : 0.06219333733897656\n",
      "epoch : 2, total train loss : 27.848806705325842\n"
     ]
    },
    {
     "data": {
      "application/vnd.jupyter.widget-view+json": {
       "model_id": "61cc2fc5175541a6894584b4bbafa245",
       "version_major": 2,
       "version_minor": 0
      },
      "text/plain": [
       "  0%|          | 0/468 [00:00<?, ?it/s]"
      ]
     },
     "metadata": {},
     "output_type": "display_data"
    },
    {
     "name": "stdout",
     "output_type": "stream",
     "text": [
      " iter : 100 avg_loss : 0.04691097871400416\n",
      " iter : 200 avg_loss : 0.04353016320383176\n",
      " iter : 300 avg_loss : 0.041773372644092886\n",
      " iter : 400 avg_loss : 0.040792713050032035\n",
      "epoch : 3, total train loss : 19.236493862699717\n"
     ]
    },
    {
     "data": {
      "application/vnd.jupyter.widget-view+json": {
       "model_id": "0e751ad1c87847a5aeb5218e9c861840",
       "version_major": 2,
       "version_minor": 0
      },
      "text/plain": [
       "  0%|          | 0/468 [00:00<?, ?it/s]"
      ]
     },
     "metadata": {},
     "output_type": "display_data"
    },
    {
     "name": "stdout",
     "output_type": "stream",
     "text": [
      " iter : 100 avg_loss : 0.033033272502943876\n",
      " iter : 200 avg_loss : 0.03449878297513351\n",
      " iter : 300 avg_loss : 0.032535426540610694\n",
      " iter : 400 avg_loss : 0.034061644101748244\n",
      "epoch : 4, total train loss : 15.595030105207115\n"
     ]
    },
    {
     "data": {
      "application/vnd.jupyter.widget-view+json": {
       "model_id": "bb44887ba26a42fdbf2a943bdbe59573",
       "version_major": 2,
       "version_minor": 0
      },
      "text/plain": [
       "  0%|          | 0/468 [00:00<?, ?it/s]"
      ]
     },
     "metadata": {},
     "output_type": "display_data"
    },
    {
     "name": "stdout",
     "output_type": "stream",
     "text": [
      " iter : 100 avg_loss : 0.03187711702659726\n",
      " iter : 200 avg_loss : 0.029585984277073294\n",
      " iter : 300 avg_loss : 0.02911713420180604\n",
      " iter : 400 avg_loss : 0.028914412077574524\n",
      "epoch : 5, total train loss : 13.610890135052614\n"
     ]
    },
    {
     "data": {
      "application/vnd.jupyter.widget-view+json": {
       "model_id": "c94ccc20c8c64448b5be45abd02e8cf3",
       "version_major": 2,
       "version_minor": 0
      },
      "text/plain": [
       "  0%|          | 0/468 [00:00<?, ?it/s]"
      ]
     },
     "metadata": {},
     "output_type": "display_data"
    },
    {
     "name": "stdout",
     "output_type": "stream",
     "text": [
      " iter : 100 avg_loss : 0.021840600669384\n",
      " iter : 200 avg_loss : 0.02477531900280155\n",
      " iter : 300 avg_loss : 0.02610269445925951\n",
      " iter : 400 avg_loss : 0.02463193999341456\n",
      "epoch : 6, total train loss : 11.507978896959685\n"
     ]
    },
    {
     "data": {
      "application/vnd.jupyter.widget-view+json": {
       "model_id": "fbbae2dca46a4e72984204c1b2947637",
       "version_major": 2,
       "version_minor": 0
      },
      "text/plain": [
       "  0%|          | 0/468 [00:00<?, ?it/s]"
      ]
     },
     "metadata": {},
     "output_type": "display_data"
    },
    {
     "name": "stdout",
     "output_type": "stream",
     "text": [
      " iter : 100 avg_loss : 0.02769569513387978\n",
      " iter : 200 avg_loss : 0.023854376345407217\n",
      " iter : 300 avg_loss : 0.023188519867835565\n",
      " iter : 400 avg_loss : 0.022403635400987696\n",
      "epoch : 7, total train loss : 10.420761228888296\n"
     ]
    },
    {
     "data": {
      "application/vnd.jupyter.widget-view+json": {
       "model_id": "a4f76e724486401787c75b019123152f",
       "version_major": 2,
       "version_minor": 0
      },
      "text/plain": [
       "  0%|          | 0/468 [00:00<?, ?it/s]"
      ]
     },
     "metadata": {},
     "output_type": "display_data"
    },
    {
     "name": "stdout",
     "output_type": "stream",
     "text": [
      " iter : 100 avg_loss : 0.020295568733708934\n",
      " iter : 200 avg_loss : 0.020733510134741662\n",
      " iter : 300 avg_loss : 0.01995874413405545\n",
      " iter : 400 avg_loss : 0.02018891520187026\n",
      "epoch : 8, total train loss : 9.21972208225634\n"
     ]
    },
    {
     "data": {
      "application/vnd.jupyter.widget-view+json": {
       "model_id": "91c0024db0e24f56add1888a1ee2de60",
       "version_major": 2,
       "version_minor": 0
      },
      "text/plain": [
       "  0%|          | 0/468 [00:00<?, ?it/s]"
      ]
     },
     "metadata": {},
     "output_type": "display_data"
    },
    {
     "name": "stdout",
     "output_type": "stream",
     "text": [
      " iter : 100 avg_loss : 0.01828260751091875\n",
      " iter : 200 avg_loss : 0.015650808050995692\n",
      " iter : 300 avg_loss : 0.01718142861694408\n",
      " iter : 400 avg_loss : 0.018224861901253463\n",
      "epoch : 9, total train loss : 8.265054304851219\n"
     ]
    },
    {
     "data": {
      "application/vnd.jupyter.widget-view+json": {
       "model_id": "ca67c4a759244f75b9850fabd0f979f6",
       "version_major": 2,
       "version_minor": 0
      },
      "text/plain": [
       "  0%|          | 0/468 [00:00<?, ?it/s]"
      ]
     },
     "metadata": {},
     "output_type": "display_data"
    },
    {
     "name": "stdout",
     "output_type": "stream",
     "text": [
      " iter : 100 avg_loss : 0.016731672768946736\n",
      " iter : 200 avg_loss : 0.017648907143739054\n",
      " iter : 300 avg_loss : 0.017413626367536683\n",
      " iter : 400 avg_loss : 0.01821605327306315\n",
      "epoch : 10, total train loss : 8.397978192544542\n"
     ]
    },
    {
     "data": {
      "application/vnd.jupyter.widget-view+json": {
       "model_id": "029123773f5f4f948e6d387db0ae8d06",
       "version_major": 2,
       "version_minor": 0
      },
      "text/plain": [
       "  0%|          | 0/468 [00:00<?, ?it/s]"
      ]
     },
     "metadata": {},
     "output_type": "display_data"
    },
    {
     "name": "stdout",
     "output_type": "stream",
     "text": [
      " iter : 100 avg_loss : 0.01954713257262483\n",
      " iter : 200 avg_loss : 0.01769850564596709\n",
      " iter : 300 avg_loss : 0.017060737912543117\n",
      " iter : 400 avg_loss : 0.01699546447402099\n",
      "epoch : 11, total train loss : 7.642190475016832\n"
     ]
    },
    {
     "data": {
      "application/vnd.jupyter.widget-view+json": {
       "model_id": "0f16034778a341578203992a317f744f",
       "version_major": 2,
       "version_minor": 0
      },
      "text/plain": [
       "  0%|          | 0/468 [00:00<?, ?it/s]"
      ]
     },
     "metadata": {},
     "output_type": "display_data"
    },
    {
     "name": "stdout",
     "output_type": "stream",
     "text": [
      " iter : 100 avg_loss : 0.013607671093195677\n",
      " iter : 200 avg_loss : 0.01731759615649935\n",
      " iter : 300 avg_loss : 0.01795349525598188\n",
      " iter : 400 avg_loss : 0.018074268150667195\n",
      "epoch : 12, total train loss : 8.307300060987473\n"
     ]
    },
    {
     "data": {
      "application/vnd.jupyter.widget-view+json": {
       "model_id": "7684b6e9c83c476f976cc352596f22f7",
       "version_major": 2,
       "version_minor": 0
      },
      "text/plain": [
       "  0%|          | 0/468 [00:00<?, ?it/s]"
      ]
     },
     "metadata": {},
     "output_type": "display_data"
    },
    {
     "name": "stdout",
     "output_type": "stream",
     "text": [
      " iter : 100 avg_loss : 0.013341658039717003\n",
      " iter : 200 avg_loss : 0.014723169565550052\n",
      " iter : 300 avg_loss : 0.015967639037407933\n",
      " iter : 400 avg_loss : 0.015044809068931499\n",
      "epoch : 13, total train loss : 6.804535418603336\n"
     ]
    },
    {
     "data": {
      "application/vnd.jupyter.widget-view+json": {
       "model_id": "d7c0c3030cc4474f90024f20f87b634c",
       "version_major": 2,
       "version_minor": 0
      },
      "text/plain": [
       "  0%|          | 0/468 [00:00<?, ?it/s]"
      ]
     },
     "metadata": {},
     "output_type": "display_data"
    },
    {
     "name": "stdout",
     "output_type": "stream",
     "text": [
      " iter : 100 avg_loss : 0.012885099640116096\n",
      " iter : 200 avg_loss : 0.012942607995355501\n",
      " iter : 300 avg_loss : 0.012264352251465122\n",
      " iter : 400 avg_loss : 0.012900296218576841\n",
      "epoch : 14, total train loss : 6.7122734625590965\n"
     ]
    },
    {
     "data": {
      "application/vnd.jupyter.widget-view+json": {
       "model_id": "5be36b68343946b2bfd4d13beff14ab1",
       "version_major": 2,
       "version_minor": 0
      },
      "text/plain": [
       "  0%|          | 0/468 [00:00<?, ?it/s]"
      ]
     },
     "metadata": {},
     "output_type": "display_data"
    },
    {
     "name": "stdout",
     "output_type": "stream",
     "text": [
      " iter : 100 avg_loss : 0.013055712609784678\n",
      " iter : 200 avg_loss : 0.014260983488347846\n",
      " iter : 300 avg_loss : 0.013517503197848176\n",
      " iter : 400 avg_loss : 0.012963634723710128\n",
      "epoch : 15, total train loss : 6.271721474302467\n"
     ]
    },
    {
     "data": {
      "application/vnd.jupyter.widget-view+json": {
       "model_id": "a030edb139ce4e4292a9291da9668b1c",
       "version_major": 2,
       "version_minor": 0
      },
      "text/plain": [
       "  0%|          | 0/468 [00:00<?, ?it/s]"
      ]
     },
     "metadata": {},
     "output_type": "display_data"
    },
    {
     "name": "stdout",
     "output_type": "stream",
     "text": [
      " iter : 100 avg_loss : 0.013552104274276644\n",
      " iter : 200 avg_loss : 0.012086556731374003\n",
      " iter : 300 avg_loss : 0.012198438285461938\n",
      " iter : 400 avg_loss : 0.012522748260380467\n",
      "epoch : 16, total train loss : 5.944731199124362\n"
     ]
    },
    {
     "data": {
      "application/vnd.jupyter.widget-view+json": {
       "model_id": "1bf9719669094c77864b009f0d50c005",
       "version_major": 2,
       "version_minor": 0
      },
      "text/plain": [
       "  0%|          | 0/468 [00:00<?, ?it/s]"
      ]
     },
     "metadata": {},
     "output_type": "display_data"
    },
    {
     "name": "stdout",
     "output_type": "stream",
     "text": [
      " iter : 100 avg_loss : 0.009504294648650102\n",
      " iter : 200 avg_loss : 0.011101620337867643\n",
      " iter : 300 avg_loss : 0.011950182296374501\n",
      " iter : 400 avg_loss : 0.012636318898003082\n",
      "epoch : 17, total train loss : 5.780999964568764\n"
     ]
    },
    {
     "data": {
      "application/vnd.jupyter.widget-view+json": {
       "model_id": "fbb31a254bda475880c9709949e9d9de",
       "version_major": 2,
       "version_minor": 0
      },
      "text/plain": [
       "  0%|          | 0/468 [00:00<?, ?it/s]"
      ]
     },
     "metadata": {},
     "output_type": "display_data"
    },
    {
     "name": "stdout",
     "output_type": "stream",
     "text": [
      " iter : 100 avg_loss : 0.013264650605851785\n",
      " iter : 200 avg_loss : 0.013952483457978814\n",
      " iter : 300 avg_loss : 0.013865650623338298\n",
      " iter : 400 avg_loss : 0.012350549967522965\n",
      "epoch : 18, total train loss : 5.594939721224364\n"
     ]
    },
    {
     "data": {
      "application/vnd.jupyter.widget-view+json": {
       "model_id": "f47935ec38324ebf8f6ccef701692267",
       "version_major": 2,
       "version_minor": 0
      },
      "text/plain": [
       "  0%|          | 0/468 [00:00<?, ?it/s]"
      ]
     },
     "metadata": {},
     "output_type": "display_data"
    },
    {
     "name": "stdout",
     "output_type": "stream",
     "text": [
      " iter : 100 avg_loss : 0.014142152494750917\n",
      " iter : 200 avg_loss : 0.014182770162587986\n",
      " iter : 300 avg_loss : 0.01288827093570338\n",
      " iter : 400 avg_loss : 0.01227150777092902\n",
      "epoch : 19, total train loss : 5.658708547649439\n"
     ]
    },
    {
     "data": {
      "application/vnd.jupyter.widget-view+json": {
       "model_id": "fa0cfbb5627e4f5ab043ff66d47bfe63",
       "version_major": 2,
       "version_minor": 0
      },
      "text/plain": [
       "  0%|          | 0/468 [00:00<?, ?it/s]"
      ]
     },
     "metadata": {},
     "output_type": "display_data"
    },
    {
     "name": "stdout",
     "output_type": "stream",
     "text": [
      " iter : 100 avg_loss : 0.009834775016643107\n",
      " iter : 200 avg_loss : 0.011421464420272968\n",
      " iter : 300 avg_loss : 0.011011188165284694\n",
      " iter : 400 avg_loss : 0.010723310750909149\n",
      "epoch : 20, total train loss : 4.968577609863132\n"
     ]
    },
    {
     "data": {
      "application/vnd.jupyter.widget-view+json": {
       "model_id": "75d39e11ee3e42a0aaea02766a42aa75",
       "version_major": 2,
       "version_minor": 0
      },
      "text/plain": [
       "  0%|          | 0/468 [00:00<?, ?it/s]"
      ]
     },
     "metadata": {},
     "output_type": "display_data"
    },
    {
     "name": "stdout",
     "output_type": "stream",
     "text": [
      " iter : 100 avg_loss : 0.009529504531528801\n",
      " iter : 200 avg_loss : 0.012659126135986298\n",
      " iter : 300 avg_loss : 0.012046625302755274\n",
      " iter : 400 avg_loss : 0.011387327474076302\n",
      "epoch : 21, total train loss : 5.120723555213772\n"
     ]
    },
    {
     "data": {
      "application/vnd.jupyter.widget-view+json": {
       "model_id": "2a99df91fb8642758a2ba8d74267f3b1",
       "version_major": 2,
       "version_minor": 0
      },
      "text/plain": [
       "  0%|          | 0/468 [00:00<?, ?it/s]"
      ]
     },
     "metadata": {},
     "output_type": "display_data"
    },
    {
     "name": "stdout",
     "output_type": "stream",
     "text": [
      " iter : 100 avg_loss : 0.012537035112618469\n",
      " iter : 200 avg_loss : 0.0111984612060769\n",
      " iter : 300 avg_loss : 0.01082878191935985\n",
      " iter : 400 avg_loss : 0.01080062255001394\n",
      "epoch : 22, total train loss : 5.313925474649295\n"
     ]
    },
    {
     "data": {
      "application/vnd.jupyter.widget-view+json": {
       "model_id": "ef1e4b92f134474db2e1ee0b367b9ed0",
       "version_major": 2,
       "version_minor": 0
      },
      "text/plain": [
       "  0%|          | 0/468 [00:00<?, ?it/s]"
      ]
     },
     "metadata": {},
     "output_type": "display_data"
    },
    {
     "name": "stdout",
     "output_type": "stream",
     "text": [
      " iter : 100 avg_loss : 0.013247610725229605\n",
      " iter : 200 avg_loss : 0.011170491580705856\n",
      " iter : 300 avg_loss : 0.010831113907818993\n",
      " iter : 400 avg_loss : 0.010814508410549024\n",
      "epoch : 23, total train loss : 4.937898977776058\n"
     ]
    },
    {
     "data": {
      "application/vnd.jupyter.widget-view+json": {
       "model_id": "09c528f6ae574b92889aa417f5b3a65f",
       "version_major": 2,
       "version_minor": 0
      },
      "text/plain": [
       "  0%|          | 0/468 [00:00<?, ?it/s]"
      ]
     },
     "metadata": {},
     "output_type": "display_data"
    },
    {
     "name": "stdout",
     "output_type": "stream",
     "text": [
      " iter : 100 avg_loss : 0.005267542554647662\n",
      " iter : 200 avg_loss : 0.008448957446526038\n",
      " iter : 300 avg_loss : 0.010278708023640016\n",
      " iter : 400 avg_loss : 0.010352855207602261\n",
      "epoch : 24, total train loss : 4.743941685475875\n"
     ]
    },
    {
     "data": {
      "application/vnd.jupyter.widget-view+json": {
       "model_id": "aac811064f88417586f36a589471ae4c",
       "version_major": 2,
       "version_minor": 0
      },
      "text/plain": [
       "  0%|          | 0/468 [00:00<?, ?it/s]"
      ]
     },
     "metadata": {},
     "output_type": "display_data"
    },
    {
     "name": "stdout",
     "output_type": "stream",
     "text": [
      " iter : 100 avg_loss : 0.008456092465785332\n",
      " iter : 200 avg_loss : 0.00899433153012069\n",
      " iter : 300 avg_loss : 0.008934700003495284\n",
      " iter : 400 avg_loss : 0.009208785248265485\n",
      "epoch : 25, total train loss : 4.468470501335105\n"
     ]
    },
    {
     "data": {
      "application/vnd.jupyter.widget-view+json": {
       "model_id": "3d1d349d4ffc4d45b451a279787571ae",
       "version_major": 2,
       "version_minor": 0
      },
      "text/plain": [
       "  0%|          | 0/468 [00:00<?, ?it/s]"
      ]
     },
     "metadata": {},
     "output_type": "display_data"
    },
    {
     "name": "stdout",
     "output_type": "stream",
     "text": [
      " iter : 100 avg_loss : 0.0078020130869117564\n",
      " iter : 200 avg_loss : 0.008466461093194084\n",
      " iter : 300 avg_loss : 0.008751772013492882\n",
      " iter : 400 avg_loss : 0.009780923936050385\n",
      "epoch : 26, total train loss : 4.778828758979216\n"
     ]
    },
    {
     "data": {
      "application/vnd.jupyter.widget-view+json": {
       "model_id": "aa8f57798bc343b68c0b4d99b2911e92",
       "version_major": 2,
       "version_minor": 0
      },
      "text/plain": [
       "  0%|          | 0/468 [00:00<?, ?it/s]"
      ]
     },
     "metadata": {},
     "output_type": "display_data"
    },
    {
     "name": "stdout",
     "output_type": "stream",
     "text": [
      " iter : 100 avg_loss : 0.00845050234318478\n",
      " iter : 200 avg_loss : 0.008230105493421434\n",
      " iter : 300 avg_loss : 0.008936277217968988\n",
      " iter : 400 avg_loss : 0.008255205956593271\n",
      "epoch : 27, total train loss : 3.7528344942547847\n"
     ]
    },
    {
     "data": {
      "application/vnd.jupyter.widget-view+json": {
       "model_id": "2e9cc16c348245b297f77feecbaa086d",
       "version_major": 2,
       "version_minor": 0
      },
      "text/plain": [
       "  0%|          | 0/468 [00:00<?, ?it/s]"
      ]
     },
     "metadata": {},
     "output_type": "display_data"
    },
    {
     "name": "stdout",
     "output_type": "stream",
     "text": [
      " iter : 100 avg_loss : 0.009131110667367466\n",
      " iter : 200 avg_loss : 0.008823224697116529\n",
      " iter : 300 avg_loss : 0.008563229836387715\n",
      " iter : 400 avg_loss : 0.008336555344212683\n",
      "epoch : 28, total train loss : 3.7897755006852094\n"
     ]
    },
    {
     "data": {
      "application/vnd.jupyter.widget-view+json": {
       "model_id": "7e9cc72082c74c67a515c2d71f2effc9",
       "version_major": 2,
       "version_minor": 0
      },
      "text/plain": [
       "  0%|          | 0/468 [00:00<?, ?it/s]"
      ]
     },
     "metadata": {},
     "output_type": "display_data"
    },
    {
     "name": "stdout",
     "output_type": "stream",
     "text": [
      " iter : 100 avg_loss : 0.007307500743918354\n",
      " iter : 200 avg_loss : 0.008648206764264614\n",
      " iter : 300 avg_loss : 0.008243099246319616\n",
      " iter : 400 avg_loss : 0.008322083678904165\n",
      "epoch : 29, total train loss : 3.591984490471077\n"
     ]
    },
    {
     "data": {
      "application/vnd.jupyter.widget-view+json": {
       "model_id": "5bed0ca6453f45b3b9b9b905b9cba665",
       "version_major": 2,
       "version_minor": 0
      },
      "text/plain": [
       "  0%|          | 0/468 [00:00<?, ?it/s]"
      ]
     },
     "metadata": {},
     "output_type": "display_data"
    },
    {
     "name": "stdout",
     "output_type": "stream",
     "text": [
      " iter : 100 avg_loss : 0.005052137258899165\n",
      " iter : 200 avg_loss : 0.007424608343935688\n",
      " iter : 300 avg_loss : 0.007683875247748801\n",
      " iter : 400 avg_loss : 0.007366676981364435\n",
      "epoch : 30, total train loss : 3.418354968467611\n"
     ]
    },
    {
     "data": {
      "application/vnd.jupyter.widget-view+json": {
       "model_id": "6b9875ac72454b3382da60c09bbff78d",
       "version_major": 2,
       "version_minor": 0
      },
      "text/plain": [
       "  0%|          | 0/468 [00:00<?, ?it/s]"
      ]
     },
     "metadata": {},
     "output_type": "display_data"
    },
    {
     "name": "stdout",
     "output_type": "stream",
     "text": [
      " iter : 100 avg_loss : 0.00693790460965829\n",
      " iter : 200 avg_loss : 0.007230960810120451\n",
      " iter : 300 avg_loss : 0.007350166073204795\n",
      " iter : 400 avg_loss : 0.00695988544212014\n",
      "epoch : 31, total train loss : 3.3150449138629483\n"
     ]
    },
    {
     "data": {
      "application/vnd.jupyter.widget-view+json": {
       "model_id": "e90476cc36ed4e92ac7bb9041057fb61",
       "version_major": 2,
       "version_minor": 0
      },
      "text/plain": [
       "  0%|          | 0/468 [00:00<?, ?it/s]"
      ]
     },
     "metadata": {},
     "output_type": "display_data"
    },
    {
     "name": "stdout",
     "output_type": "stream",
     "text": [
      " iter : 100 avg_loss : 0.0066107127121358645\n",
      " iter : 200 avg_loss : 0.00679130369106133\n",
      " iter : 300 avg_loss : 0.005632472366936175\n",
      " iter : 400 avg_loss : 0.005916413098229895\n",
      "epoch : 32, total train loss : 2.857005485591799\n"
     ]
    },
    {
     "data": {
      "application/vnd.jupyter.widget-view+json": {
       "model_id": "14f64da5660041549b9c94395cabc4c8",
       "version_major": 2,
       "version_minor": 0
      },
      "text/plain": [
       "  0%|          | 0/468 [00:00<?, ?it/s]"
      ]
     },
     "metadata": {},
     "output_type": "display_data"
    },
    {
     "name": "stdout",
     "output_type": "stream",
     "text": [
      " iter : 100 avg_loss : 0.007126510795205832\n",
      " iter : 200 avg_loss : 0.007810109507117886\n",
      " iter : 300 avg_loss : 0.0073239439038055324\n",
      " iter : 400 avg_loss : 0.007151087467227626\n",
      "epoch : 33, total train loss : 3.12147649453982\n"
     ]
    },
    {
     "data": {
      "application/vnd.jupyter.widget-view+json": {
       "model_id": "5587a6fd16054d7bab11f938692f8598",
       "version_major": 2,
       "version_minor": 0
      },
      "text/plain": [
       "  0%|          | 0/468 [00:00<?, ?it/s]"
      ]
     },
     "metadata": {},
     "output_type": "display_data"
    },
    {
     "name": "stdout",
     "output_type": "stream",
     "text": [
      " iter : 100 avg_loss : 0.005824848188640317\n",
      " iter : 200 avg_loss : 0.00784946739076986\n",
      " iter : 300 avg_loss : 0.007798065858029683\n",
      " iter : 400 avg_loss : 0.007474946837755851\n",
      "epoch : 34, total train loss : 3.299767650976719\n"
     ]
    },
    {
     "data": {
      "application/vnd.jupyter.widget-view+json": {
       "model_id": "ed6c8804fffb44de879c9314c30aef19",
       "version_major": 2,
       "version_minor": 0
      },
      "text/plain": [
       "  0%|          | 0/468 [00:00<?, ?it/s]"
      ]
     },
     "metadata": {},
     "output_type": "display_data"
    },
    {
     "name": "stdout",
     "output_type": "stream",
     "text": [
      " iter : 100 avg_loss : 0.005271100099053001\n",
      " iter : 200 avg_loss : 0.004603194546507439\n",
      " iter : 300 avg_loss : 0.005115259101257834\n",
      " iter : 400 avg_loss : 0.005286596387222744\n",
      "epoch : 35, total train loss : 2.6260222020318906\n"
     ]
    },
    {
     "data": {
      "application/vnd.jupyter.widget-view+json": {
       "model_id": "196f81fce45d4793be34f25c793823b8",
       "version_major": 2,
       "version_minor": 0
      },
      "text/plain": [
       "  0%|          | 0/468 [00:00<?, ?it/s]"
      ]
     },
     "metadata": {},
     "output_type": "display_data"
    },
    {
     "name": "stdout",
     "output_type": "stream",
     "text": [
      " iter : 100 avg_loss : 0.004128461149739451\n",
      " iter : 200 avg_loss : 0.004803234467253788\n",
      " iter : 300 avg_loss : 0.005698644086466326\n",
      " iter : 400 avg_loss : 0.005291848278939142\n",
      "epoch : 36, total train loss : 2.389319312540465\n"
     ]
    },
    {
     "data": {
      "application/vnd.jupyter.widget-view+json": {
       "model_id": "71ed39e81eb04dadb5fe7baa761365c7",
       "version_major": 2,
       "version_minor": 0
      },
      "text/plain": [
       "  0%|          | 0/468 [00:00<?, ?it/s]"
      ]
     },
     "metadata": {},
     "output_type": "display_data"
    },
    {
     "name": "stdout",
     "output_type": "stream",
     "text": [
      " iter : 100 avg_loss : 0.005123717514215968\n",
      " iter : 200 avg_loss : 0.004572027520698612\n",
      " iter : 300 avg_loss : 0.004183492463962466\n",
      " iter : 400 avg_loss : 0.004260261967310726\n",
      "epoch : 37, total train loss : 1.985363423689705\n"
     ]
    },
    {
     "data": {
      "application/vnd.jupyter.widget-view+json": {
       "model_id": "2f362e706d48457c9daf0d9fbcef4f0e",
       "version_major": 2,
       "version_minor": 0
      },
      "text/plain": [
       "  0%|          | 0/468 [00:00<?, ?it/s]"
      ]
     },
     "metadata": {},
     "output_type": "display_data"
    },
    {
     "name": "stdout",
     "output_type": "stream",
     "text": [
      " iter : 100 avg_loss : 0.003944277587761462\n",
      " iter : 200 avg_loss : 0.003954036061313673\n",
      " iter : 300 avg_loss : 0.004220793356689683\n",
      " iter : 400 avg_loss : 0.004005104954921989\n",
      "epoch : 38, total train loss : 1.9009258794103516\n"
     ]
    },
    {
     "data": {
      "application/vnd.jupyter.widget-view+json": {
       "model_id": "6ff470cde3bb4b338ec8c19424662f13",
       "version_major": 2,
       "version_minor": 0
      },
      "text/plain": [
       "  0%|          | 0/468 [00:00<?, ?it/s]"
      ]
     },
     "metadata": {},
     "output_type": "display_data"
    },
    {
     "name": "stdout",
     "output_type": "stream",
     "text": [
      " iter : 100 avg_loss : 0.004271828922828718\n",
      " iter : 200 avg_loss : 0.0040000027287624106\n",
      " iter : 300 avg_loss : 0.003981152462711179\n",
      " iter : 400 avg_loss : 0.004723057541855269\n",
      "epoch : 39, total train loss : 2.3815110976156575\n"
     ]
    },
    {
     "data": {
      "application/vnd.jupyter.widget-view+json": {
       "model_id": "c84ea4ace8474a88ae4cae0e43450f1c",
       "version_major": 2,
       "version_minor": 0
      },
      "text/plain": [
       "  0%|          | 0/468 [00:00<?, ?it/s]"
      ]
     },
     "metadata": {},
     "output_type": "display_data"
    },
    {
     "name": "stdout",
     "output_type": "stream",
     "text": [
      " iter : 100 avg_loss : 0.004295745653653284\n",
      " iter : 200 avg_loss : 0.004365923798686709\n",
      " iter : 300 avg_loss : 0.004759835528845239\n",
      " iter : 400 avg_loss : 0.004663733569896067\n",
      "epoch : 40, total train loss : 2.331492756249645\n"
     ]
    },
    {
     "data": {
      "application/vnd.jupyter.widget-view+json": {
       "model_id": "3e474ae026bf41cf801938a62d17a995",
       "version_major": 2,
       "version_minor": 0
      },
      "text/plain": [
       "  0%|          | 0/468 [00:00<?, ?it/s]"
      ]
     },
     "metadata": {},
     "output_type": "display_data"
    },
    {
     "name": "stdout",
     "output_type": "stream",
     "text": [
      " iter : 100 avg_loss : 0.00435091886727605\n",
      " iter : 200 avg_loss : 0.003624908852198132\n",
      " iter : 300 avg_loss : 0.004362534813396148\n",
      " iter : 400 avg_loss : 0.004015926910351481\n",
      "epoch : 41, total train loss : 1.9146712893780204\n"
     ]
    },
    {
     "data": {
      "application/vnd.jupyter.widget-view+json": {
       "model_id": "f2689bf7a7184c47954f060571bda26a",
       "version_major": 2,
       "version_minor": 0
      },
      "text/plain": [
       "  0%|          | 0/468 [00:00<?, ?it/s]"
      ]
     },
     "metadata": {},
     "output_type": "display_data"
    },
    {
     "name": "stdout",
     "output_type": "stream",
     "text": [
      " iter : 100 avg_loss : 0.003994707971360185\n",
      " iter : 200 avg_loss : 0.003806039551127469\n",
      " iter : 300 avg_loss : 0.004316298329770992\n",
      " iter : 400 avg_loss : 0.004462687899285811\n",
      "epoch : 42, total train loss : 1.9028077381917683\n"
     ]
    },
    {
     "data": {
      "application/vnd.jupyter.widget-view+json": {
       "model_id": "89bceddc54c04f32b466d6f0f017d86b",
       "version_major": 2,
       "version_minor": 0
      },
      "text/plain": [
       "  0%|          | 0/468 [00:00<?, ?it/s]"
      ]
     },
     "metadata": {},
     "output_type": "display_data"
    },
    {
     "name": "stdout",
     "output_type": "stream",
     "text": [
      " iter : 100 avg_loss : 0.004431823085888027\n",
      " iter : 200 avg_loss : 0.004002330451994567\n",
      " iter : 300 avg_loss : 0.003929569637336196\n",
      " iter : 400 avg_loss : 0.004095583478151639\n",
      "epoch : 43, total train loss : 1.8982793914965441\n"
     ]
    },
    {
     "data": {
      "application/vnd.jupyter.widget-view+json": {
       "model_id": "d75154b15b86476b82a9f58370e72223",
       "version_major": 2,
       "version_minor": 0
      },
      "text/plain": [
       "  0%|          | 0/468 [00:00<?, ?it/s]"
      ]
     },
     "metadata": {},
     "output_type": "display_data"
    },
    {
     "name": "stdout",
     "output_type": "stream",
     "text": [
      " iter : 100 avg_loss : 0.0050687592986650995\n",
      " iter : 200 avg_loss : 0.003732417718083525\n",
      " iter : 300 avg_loss : 0.0034992025017891136\n",
      " iter : 400 avg_loss : 0.0031785683043096926\n",
      "epoch : 44, total train loss : 1.5717812973921355\n"
     ]
    },
    {
     "data": {
      "application/vnd.jupyter.widget-view+json": {
       "model_id": "4ef2601002ce425f9a77935b10992f05",
       "version_major": 2,
       "version_minor": 0
      },
      "text/plain": [
       "  0%|          | 0/468 [00:00<?, ?it/s]"
      ]
     },
     "metadata": {},
     "output_type": "display_data"
    },
    {
     "name": "stdout",
     "output_type": "stream",
     "text": [
      " iter : 100 avg_loss : 0.0020586815649585332\n",
      " iter : 200 avg_loss : 0.003068932265582589\n",
      " iter : 300 avg_loss : 0.0033847916806462306\n",
      " iter : 400 avg_loss : 0.0032505381853593462\n",
      "epoch : 45, total train loss : 1.4557386128644794\n"
     ]
    },
    {
     "data": {
      "application/vnd.jupyter.widget-view+json": {
       "model_id": "4a57e7402779490cbf080965b5561f44",
       "version_major": 2,
       "version_minor": 0
      },
      "text/plain": [
       "  0%|          | 0/468 [00:00<?, ?it/s]"
      ]
     },
     "metadata": {},
     "output_type": "display_data"
    },
    {
     "name": "stdout",
     "output_type": "stream",
     "text": [
      " iter : 100 avg_loss : 0.0027776148899283726\n",
      " iter : 200 avg_loss : 0.0030887980554052774\n",
      " iter : 300 avg_loss : 0.003545140559981519\n",
      " iter : 400 avg_loss : 0.003253388107655155\n",
      "epoch : 46, total train loss : 1.550834395826314\n"
     ]
    },
    {
     "data": {
      "application/vnd.jupyter.widget-view+json": {
       "model_id": "57c8d0d69f794d3ab9e9b7a579f5ee9a",
       "version_major": 2,
       "version_minor": 0
      },
      "text/plain": [
       "  0%|          | 0/468 [00:00<?, ?it/s]"
      ]
     },
     "metadata": {},
     "output_type": "display_data"
    },
    {
     "name": "stdout",
     "output_type": "stream",
     "text": [
      " iter : 100 avg_loss : 0.0026984584722777073\n",
      " iter : 200 avg_loss : 0.0037197770811417284\n",
      " iter : 300 avg_loss : 0.0032523858095555623\n",
      " iter : 400 avg_loss : 0.0029227534617348285\n",
      "epoch : 47, total train loss : 1.44289170344382\n"
     ]
    },
    {
     "data": {
      "application/vnd.jupyter.widget-view+json": {
       "model_id": "5ec5c5e07d664c54a0122918fff72409",
       "version_major": 2,
       "version_minor": 0
      },
      "text/plain": [
       "  0%|          | 0/468 [00:00<?, ?it/s]"
      ]
     },
     "metadata": {},
     "output_type": "display_data"
    },
    {
     "name": "stdout",
     "output_type": "stream",
     "text": [
      " iter : 100 avg_loss : 0.001304787415147075\n",
      " iter : 200 avg_loss : 0.0025773174953792476\n",
      " iter : 300 avg_loss : 0.0032996931766926235\n",
      " iter : 400 avg_loss : 0.0032807423305166593\n",
      "epoch : 48, total train loss : 1.4568649412140076\n"
     ]
    },
    {
     "data": {
      "application/vnd.jupyter.widget-view+json": {
       "model_id": "0012e9a9a0144fbda8062869d6818be8",
       "version_major": 2,
       "version_minor": 0
      },
      "text/plain": [
       "  0%|          | 0/468 [00:00<?, ?it/s]"
      ]
     },
     "metadata": {},
     "output_type": "display_data"
    },
    {
     "name": "stdout",
     "output_type": "stream",
     "text": [
      " iter : 100 avg_loss : 0.0033249154781333345\n",
      " iter : 200 avg_loss : 0.004477420205212183\n",
      " iter : 300 avg_loss : 0.004257139949968405\n",
      " iter : 400 avg_loss : 0.0045167772584181875\n",
      "epoch : 49, total train loss : 2.0995966459977353\n"
     ]
    },
    {
     "data": {
      "application/vnd.jupyter.widget-view+json": {
       "model_id": "dce01737e5c04b44a32d66642db3ace8",
       "version_major": 2,
       "version_minor": 0
      },
      "text/plain": [
       "  0%|          | 0/468 [00:00<?, ?it/s]"
      ]
     },
     "metadata": {},
     "output_type": "display_data"
    },
    {
     "name": "stdout",
     "output_type": "stream",
     "text": [
      " iter : 100 avg_loss : 0.0042228711658390235\n",
      " iter : 200 avg_loss : 0.0034391318630696333\n",
      " iter : 300 avg_loss : 0.003029839071814422\n",
      " iter : 400 avg_loss : 0.0028678394690678033\n",
      "epoch : 50, total train loss : 1.2923553522232396\n"
     ]
    },
    {
     "data": {
      "application/vnd.jupyter.widget-view+json": {
       "model_id": "cae8581c176c4465b5d617350c6a2ea8",
       "version_major": 2,
       "version_minor": 0
      },
      "text/plain": [
       "  0%|          | 0/468 [00:00<?, ?it/s]"
      ]
     },
     "metadata": {},
     "output_type": "display_data"
    },
    {
     "name": "stdout",
     "output_type": "stream",
     "text": [
      " iter : 100 avg_loss : 0.002651017435200629\n",
      " iter : 200 avg_loss : 0.002783778293578507\n",
      " iter : 300 avg_loss : 0.0029962216970822434\n",
      " iter : 400 avg_loss : 0.0028931258040188366\n",
      "epoch : 51, total train loss : 1.3046624939661342\n"
     ]
    },
    {
     "data": {
      "application/vnd.jupyter.widget-view+json": {
       "model_id": "4031d640adc246649f2ebfba6184a538",
       "version_major": 2,
       "version_minor": 0
      },
      "text/plain": [
       "  0%|          | 0/468 [00:00<?, ?it/s]"
      ]
     },
     "metadata": {},
     "output_type": "display_data"
    },
    {
     "name": "stdout",
     "output_type": "stream",
     "text": [
      " iter : 100 avg_loss : 0.0029184107607034093\n",
      " iter : 200 avg_loss : 0.0023853266089781753\n",
      " iter : 300 avg_loss : 0.0021922733782321303\n",
      " iter : 400 avg_loss : 0.002605839302898403\n",
      "epoch : 52, total train loss : 1.3071203337758561\n"
     ]
    },
    {
     "data": {
      "application/vnd.jupyter.widget-view+json": {
       "model_id": "a6e515dc4a3e478f87599936208f5adc",
       "version_major": 2,
       "version_minor": 0
      },
      "text/plain": [
       "  0%|          | 0/468 [00:00<?, ?it/s]"
      ]
     },
     "metadata": {},
     "output_type": "display_data"
    },
    {
     "name": "stdout",
     "output_type": "stream",
     "text": [
      " iter : 100 avg_loss : 0.0025347753311871202\n",
      " iter : 200 avg_loss : 0.002774590694980361\n",
      " iter : 300 avg_loss : 0.002592495754512735\n",
      " iter : 400 avg_loss : 0.002537275458678323\n",
      "epoch : 53, total train loss : 1.2049755322232159\n"
     ]
    },
    {
     "data": {
      "application/vnd.jupyter.widget-view+json": {
       "model_id": "150d236478bf49f7bd9b6f889dad92ce",
       "version_major": 2,
       "version_minor": 0
      },
      "text/plain": [
       "  0%|          | 0/468 [00:00<?, ?it/s]"
      ]
     },
     "metadata": {},
     "output_type": "display_data"
    },
    {
     "name": "stdout",
     "output_type": "stream",
     "text": [
      " iter : 100 avg_loss : 0.0019191520332469737\n",
      " iter : 200 avg_loss : 0.0022364318520590133\n",
      " iter : 300 avg_loss : 0.0022545963273826906\n",
      " iter : 400 avg_loss : 0.002690886203243963\n",
      "epoch : 54, total train loss : 1.3115937271900293\n"
     ]
    },
    {
     "data": {
      "application/vnd.jupyter.widget-view+json": {
       "model_id": "25bbcf10394f48e6841e15fc55cd3850",
       "version_major": 2,
       "version_minor": 0
      },
      "text/plain": [
       "  0%|          | 0/468 [00:00<?, ?it/s]"
      ]
     },
     "metadata": {},
     "output_type": "display_data"
    },
    {
     "name": "stdout",
     "output_type": "stream",
     "text": [
      " iter : 100 avg_loss : 0.0035022544194725923\n",
      " iter : 200 avg_loss : 0.0026438619045802626\n",
      " iter : 300 avg_loss : 0.0024935209776898166\n",
      " iter : 400 avg_loss : 0.002423589433988127\n",
      "epoch : 55, total train loss : 1.28103956605446\n"
     ]
    },
    {
     "data": {
      "application/vnd.jupyter.widget-view+json": {
       "model_id": "d9c911cd1965465ebf5396df59439838",
       "version_major": 2,
       "version_minor": 0
      },
      "text/plain": [
       "  0%|          | 0/468 [00:00<?, ?it/s]"
      ]
     },
     "metadata": {},
     "output_type": "display_data"
    },
    {
     "name": "stdout",
     "output_type": "stream",
     "text": [
      " iter : 100 avg_loss : 0.00257812535361154\n",
      " iter : 200 avg_loss : 0.002532170242880056\n",
      " iter : 300 avg_loss : 0.002660847898487191\n",
      " iter : 400 avg_loss : 0.0025247853066184688\n",
      "epoch : 56, total train loss : 1.0894314812139783\n"
     ]
    },
    {
     "data": {
      "application/vnd.jupyter.widget-view+json": {
       "model_id": "a7e98eca5f2744349f72decde5dc9740",
       "version_major": 2,
       "version_minor": 0
      },
      "text/plain": [
       "  0%|          | 0/468 [00:00<?, ?it/s]"
      ]
     },
     "metadata": {},
     "output_type": "display_data"
    },
    {
     "name": "stdout",
     "output_type": "stream",
     "text": [
      " iter : 100 avg_loss : 0.003320973715940454\n",
      " iter : 200 avg_loss : 0.0035274721523137487\n",
      " iter : 300 avg_loss : 0.0035954381129734733\n",
      " iter : 400 avg_loss : 0.003662492706937428\n",
      "epoch : 57, total train loss : 1.5764970799491493\n"
     ]
    },
    {
     "data": {
      "application/vnd.jupyter.widget-view+json": {
       "model_id": "6f0c0d119ccf48f3bbd3d2811b2bcb4a",
       "version_major": 2,
       "version_minor": 0
      },
      "text/plain": [
       "  0%|          | 0/468 [00:00<?, ?it/s]"
      ]
     },
     "metadata": {},
     "output_type": "display_data"
    },
    {
     "name": "stdout",
     "output_type": "stream",
     "text": [
      " iter : 100 avg_loss : 0.0017249076917323692\n",
      " iter : 200 avg_loss : 0.0021094770227500703\n",
      " iter : 300 avg_loss : 0.0016478173995634886\n",
      " iter : 400 avg_loss : 0.001744808576078185\n",
      "epoch : 58, total train loss : 0.9757002417431977\n"
     ]
    },
    {
     "data": {
      "application/vnd.jupyter.widget-view+json": {
       "model_id": "728f1bb4095040fab4f637fd7f03a7ba",
       "version_major": 2,
       "version_minor": 0
      },
      "text/plain": [
       "  0%|          | 0/468 [00:00<?, ?it/s]"
      ]
     },
     "metadata": {},
     "output_type": "display_data"
    },
    {
     "name": "stdout",
     "output_type": "stream",
     "text": [
      " iter : 100 avg_loss : 0.0025022370128135662\n",
      " iter : 200 avg_loss : 0.0022143006640544627\n",
      " iter : 300 avg_loss : 0.0025365398334391406\n",
      " iter : 400 avg_loss : 0.002943613781824297\n",
      "epoch : 59, total train loss : 1.3428498148268773\n"
     ]
    },
    {
     "data": {
      "application/vnd.jupyter.widget-view+json": {
       "model_id": "73e1f22a9bc946a983dd2692b6c4352b",
       "version_major": 2,
       "version_minor": 0
      },
      "text/plain": [
       "  0%|          | 0/468 [00:00<?, ?it/s]"
      ]
     },
     "metadata": {},
     "output_type": "display_data"
    },
    {
     "name": "stdout",
     "output_type": "stream",
     "text": [
      " iter : 100 avg_loss : 0.0007887392543580063\n",
      " iter : 200 avg_loss : 0.0018742921784678402\n",
      " iter : 300 avg_loss : 0.002196706334340585\n",
      " iter : 400 avg_loss : 0.0023021240757293525\n",
      "epoch : 60, total train loss : 1.0496298932366699\n"
     ]
    },
    {
     "data": {
      "application/vnd.jupyter.widget-view+json": {
       "model_id": "8fe1a47a18a24f608909d9d65e28b02a",
       "version_major": 2,
       "version_minor": 0
      },
      "text/plain": [
       "  0%|          | 0/468 [00:00<?, ?it/s]"
      ]
     },
     "metadata": {},
     "output_type": "display_data"
    },
    {
     "name": "stdout",
     "output_type": "stream",
     "text": [
      " iter : 100 avg_loss : 0.0032430442334771214\n",
      " iter : 200 avg_loss : 0.0029427748499711013\n",
      " iter : 300 avg_loss : 0.0027128911322203447\n",
      " iter : 400 avg_loss : 0.00265647863418053\n",
      "epoch : 61, total train loss : 1.1896730346925324\n"
     ]
    },
    {
     "data": {
      "application/vnd.jupyter.widget-view+json": {
       "model_id": "4bd2d89c8a914ab2bfc952c5f3ed1e76",
       "version_major": 2,
       "version_minor": 0
      },
      "text/plain": [
       "  0%|          | 0/468 [00:00<?, ?it/s]"
      ]
     },
     "metadata": {},
     "output_type": "display_data"
    },
    {
     "name": "stdout",
     "output_type": "stream",
     "text": [
      " iter : 100 avg_loss : 0.0016268832715832105\n",
      " iter : 200 avg_loss : 0.0015298029232599219\n",
      " iter : 300 avg_loss : 0.0017839956301395432\n",
      " iter : 400 avg_loss : 0.0021096504641991485\n",
      "epoch : 62, total train loss : 0.9384581401072865\n"
     ]
    },
    {
     "data": {
      "application/vnd.jupyter.widget-view+json": {
       "model_id": "756a1ac2203344e383f3f645a15335f9",
       "version_major": 2,
       "version_minor": 0
      },
      "text/plain": [
       "  0%|          | 0/468 [00:00<?, ?it/s]"
      ]
     },
     "metadata": {},
     "output_type": "display_data"
    },
    {
     "name": "stdout",
     "output_type": "stream",
     "text": [
      " iter : 100 avg_loss : 0.0012930917255289387\n",
      " iter : 200 avg_loss : 0.0022865847167531685\n",
      " iter : 300 avg_loss : 0.0025870956438150947\n",
      " iter : 400 avg_loss : 0.0027977872185078923\n",
      "epoch : 63, total train loss : 1.2232280135476685\n"
     ]
    },
    {
     "data": {
      "application/vnd.jupyter.widget-view+json": {
       "model_id": "436f40887edc4e92bc9485d0de2e164a",
       "version_major": 2,
       "version_minor": 0
      },
      "text/plain": [
       "  0%|          | 0/468 [00:00<?, ?it/s]"
      ]
     },
     "metadata": {},
     "output_type": "display_data"
    },
    {
     "name": "stdout",
     "output_type": "stream",
     "text": [
      " iter : 100 avg_loss : 0.0013559526751669181\n",
      " iter : 200 avg_loss : 0.0013052573973982363\n",
      " iter : 300 avg_loss : 0.0016978370486579783\n",
      " iter : 400 avg_loss : 0.0019218576598211711\n",
      "epoch : 64, total train loss : 0.9549093998625722\n"
     ]
    },
    {
     "data": {
      "application/vnd.jupyter.widget-view+json": {
       "model_id": "cf1103be1b0e4444a9a9cf4f10f17eb1",
       "version_major": 2,
       "version_minor": 0
      },
      "text/plain": [
       "  0%|          | 0/468 [00:00<?, ?it/s]"
      ]
     },
     "metadata": {},
     "output_type": "display_data"
    },
    {
     "name": "stdout",
     "output_type": "stream",
     "text": [
      " iter : 100 avg_loss : 0.0014548886903139645\n",
      " iter : 200 avg_loss : 0.001994883058473533\n",
      " iter : 300 avg_loss : 0.0016459032644676578\n",
      " iter : 400 avg_loss : 0.0014543318802611794\n",
      "epoch : 65, total train loss : 0.6993925099914122\n"
     ]
    },
    {
     "data": {
      "application/vnd.jupyter.widget-view+json": {
       "model_id": "84b5d059a70045c5b337ca3f8ec51115",
       "version_major": 2,
       "version_minor": 0
      },
      "text/plain": [
       "  0%|          | 0/468 [00:00<?, ?it/s]"
      ]
     },
     "metadata": {},
     "output_type": "display_data"
    },
    {
     "name": "stdout",
     "output_type": "stream",
     "text": [
      " iter : 100 avg_loss : 0.0012338106696461182\n",
      " iter : 200 avg_loss : 0.001582588314149689\n",
      " iter : 300 avg_loss : 0.002131972697243327\n",
      " iter : 400 avg_loss : 0.002049319812917929\n",
      "epoch : 66, total train loss : 0.8993595242427546\n"
     ]
    },
    {
     "data": {
      "application/vnd.jupyter.widget-view+json": {
       "model_id": "6cab7c65c7204675850f22b15478b96b",
       "version_major": 2,
       "version_minor": 0
      },
      "text/plain": [
       "  0%|          | 0/468 [00:00<?, ?it/s]"
      ]
     },
     "metadata": {},
     "output_type": "display_data"
    },
    {
     "name": "stdout",
     "output_type": "stream",
     "text": [
      " iter : 100 avg_loss : 0.0024527582111113586\n",
      " iter : 200 avg_loss : 0.0027487140442281088\n",
      " iter : 300 avg_loss : 0.002356444086757013\n",
      " iter : 400 avg_loss : 0.002175942851156378\n",
      "epoch : 67, total train loss : 0.9700384881107311\n"
     ]
    },
    {
     "data": {
      "application/vnd.jupyter.widget-view+json": {
       "model_id": "cd3508c933a04957bf63918452743668",
       "version_major": 2,
       "version_minor": 0
      },
      "text/plain": [
       "  0%|          | 0/468 [00:00<?, ?it/s]"
      ]
     },
     "metadata": {},
     "output_type": "display_data"
    },
    {
     "name": "stdout",
     "output_type": "stream",
     "text": [
      " iter : 100 avg_loss : 0.001960410446115475\n",
      " iter : 200 avg_loss : 0.0015186746987967581\n",
      " iter : 300 avg_loss : 0.0021879766824357224\n",
      " iter : 400 avg_loss : 0.002417202968054539\n",
      "epoch : 68, total train loss : 1.088234121227515\n"
     ]
    },
    {
     "data": {
      "application/vnd.jupyter.widget-view+json": {
       "model_id": "c4466e0156a04fc08d789a783c3eb839",
       "version_major": 2,
       "version_minor": 0
      },
      "text/plain": [
       "  0%|          | 0/468 [00:00<?, ?it/s]"
      ]
     },
     "metadata": {},
     "output_type": "display_data"
    },
    {
     "name": "stdout",
     "output_type": "stream",
     "text": [
      " iter : 100 avg_loss : 0.0012637950486259796\n",
      " iter : 200 avg_loss : 0.00164944149515577\n",
      " iter : 300 avg_loss : 0.0020501709494624267\n",
      " iter : 400 avg_loss : 0.002069302663491612\n",
      "epoch : 69, total train loss : 0.9908145737392715\n"
     ]
    },
    {
     "data": {
      "application/vnd.jupyter.widget-view+json": {
       "model_id": "5450ad636b1a46b98f31d5df52a9c2ff",
       "version_major": 2,
       "version_minor": 0
      },
      "text/plain": [
       "  0%|          | 0/468 [00:00<?, ?it/s]"
      ]
     },
     "metadata": {},
     "output_type": "display_data"
    },
    {
     "name": "stdout",
     "output_type": "stream",
     "text": [
      " iter : 100 avg_loss : 0.0008498556409676894\n",
      " iter : 200 avg_loss : 0.0010943396428672258\n",
      " iter : 300 avg_loss : 0.0013346571566701943\n",
      " iter : 400 avg_loss : 0.001502991030998544\n",
      "epoch : 70, total train loss : 0.9254616403781029\n"
     ]
    },
    {
     "data": {
      "application/vnd.jupyter.widget-view+json": {
       "model_id": "6b862c4623844583a021cd54c91736fa",
       "version_major": 2,
       "version_minor": 0
      },
      "text/plain": [
       "  0%|          | 0/468 [00:00<?, ?it/s]"
      ]
     },
     "metadata": {},
     "output_type": "display_data"
    },
    {
     "name": "stdout",
     "output_type": "stream",
     "text": [
      " iter : 100 avg_loss : 0.001615050317304849\n",
      " iter : 200 avg_loss : 0.0016432048916067289\n",
      " iter : 300 avg_loss : 0.0018828540140581633\n",
      " iter : 400 avg_loss : 0.001961284721605807\n",
      "epoch : 71, total train loss : 0.8203230170258848\n"
     ]
    },
    {
     "data": {
      "application/vnd.jupyter.widget-view+json": {
       "model_id": "e29545aa5ad847a7825152dc8a310c42",
       "version_major": 2,
       "version_minor": 0
      },
      "text/plain": [
       "  0%|          | 0/468 [00:00<?, ?it/s]"
      ]
     },
     "metadata": {},
     "output_type": "display_data"
    },
    {
     "name": "stdout",
     "output_type": "stream",
     "text": [
      " iter : 100 avg_loss : 0.001470199302129913\n",
      " iter : 200 avg_loss : 0.0010798032036188942\n",
      " iter : 300 avg_loss : 0.0013725359328395825\n",
      " iter : 400 avg_loss : 0.0019794216594607407\n",
      "epoch : 72, total train loss : 1.015087966281044\n"
     ]
    },
    {
     "data": {
      "application/vnd.jupyter.widget-view+json": {
       "model_id": "44646f5b0d68460aa1d3394efa1dc99c",
       "version_major": 2,
       "version_minor": 0
      },
      "text/plain": [
       "  0%|          | 0/468 [00:00<?, ?it/s]"
      ]
     },
     "metadata": {},
     "output_type": "display_data"
    },
    {
     "name": "stdout",
     "output_type": "stream",
     "text": [
      " iter : 100 avg_loss : 0.0007591088115077582\n",
      " iter : 200 avg_loss : 0.0010624107650278347\n",
      " iter : 300 avg_loss : 0.0012365406926088931\n",
      " iter : 400 avg_loss : 0.0011210264562657812\n",
      "epoch : 73, total train loss : 0.6360312777092076\n"
     ]
    },
    {
     "data": {
      "application/vnd.jupyter.widget-view+json": {
       "model_id": "a364837127f0436a86080b5a2ac45b5d",
       "version_major": 2,
       "version_minor": 0
      },
      "text/plain": [
       "  0%|          | 0/468 [00:00<?, ?it/s]"
      ]
     },
     "metadata": {},
     "output_type": "display_data"
    },
    {
     "name": "stdout",
     "output_type": "stream",
     "text": [
      " iter : 100 avg_loss : 0.004056996380058991\n",
      " iter : 200 avg_loss : 0.0033900745498522157\n",
      " iter : 300 avg_loss : 0.002841273761705452\n",
      " iter : 400 avg_loss : 0.0021960103572257594\n",
      "epoch : 74, total train loss : 0.9291655586116576\n"
     ]
    },
    {
     "data": {
      "application/vnd.jupyter.widget-view+json": {
       "model_id": "88a699da93ae408a99cb69c3e1fb62ca",
       "version_major": 2,
       "version_minor": 0
      },
      "text/plain": [
       "  0%|          | 0/468 [00:00<?, ?it/s]"
      ]
     },
     "metadata": {},
     "output_type": "display_data"
    },
    {
     "name": "stdout",
     "output_type": "stream",
     "text": [
      " iter : 100 avg_loss : 0.002002629554775126\n",
      " iter : 200 avg_loss : 0.0018259316885078647\n",
      " iter : 300 avg_loss : 0.0018027856346128602\n",
      " iter : 400 avg_loss : 0.0018794484764380571\n",
      "epoch : 75, total train loss : 0.9053018498842107\n"
     ]
    },
    {
     "data": {
      "application/vnd.jupyter.widget-view+json": {
       "model_id": "9979f963e0dc4def847d75b62a930695",
       "version_major": 2,
       "version_minor": 0
      },
      "text/plain": [
       "  0%|          | 0/468 [00:00<?, ?it/s]"
      ]
     },
     "metadata": {},
     "output_type": "display_data"
    },
    {
     "name": "stdout",
     "output_type": "stream",
     "text": [
      " iter : 100 avg_loss : 0.0010812971547102279\n",
      " iter : 200 avg_loss : 0.0017103807369051082\n",
      " iter : 300 avg_loss : 0.0021378193460827788\n",
      " iter : 400 avg_loss : 0.0019102386565123196\n",
      "epoch : 76, total train loss : 0.8289008531771742\n"
     ]
    },
    {
     "data": {
      "application/vnd.jupyter.widget-view+json": {
       "model_id": "fc40bba120744883a7efee8dca7d4f5f",
       "version_major": 2,
       "version_minor": 0
      },
      "text/plain": [
       "  0%|          | 0/468 [00:00<?, ?it/s]"
      ]
     },
     "metadata": {},
     "output_type": "display_data"
    },
    {
     "name": "stdout",
     "output_type": "stream",
     "text": [
      " iter : 100 avg_loss : 0.0014350084050443002\n",
      " iter : 200 avg_loss : 0.0010958802184575234\n",
      " iter : 300 avg_loss : 0.0008480462077972106\n",
      " iter : 400 avg_loss : 0.000830218585654734\n",
      "epoch : 77, total train loss : 0.4996374534196093\n"
     ]
    },
    {
     "data": {
      "application/vnd.jupyter.widget-view+json": {
       "model_id": "f571b3368ef844a9a2aa8be0ac74ba8f",
       "version_major": 2,
       "version_minor": 0
      },
      "text/plain": [
       "  0%|          | 0/468 [00:00<?, ?it/s]"
      ]
     },
     "metadata": {},
     "output_type": "display_data"
    },
    {
     "name": "stdout",
     "output_type": "stream",
     "text": [
      " iter : 100 avg_loss : 0.0010992292729952169\n",
      " iter : 200 avg_loss : 0.0013870214755917231\n",
      " iter : 300 avg_loss : 0.0015867095283848207\n",
      " iter : 400 avg_loss : 0.0015817331035512438\n",
      "epoch : 78, total train loss : 0.724977833459775\n"
     ]
    },
    {
     "data": {
      "application/vnd.jupyter.widget-view+json": {
       "model_id": "38f1a06b71994d40a4f940da19bdc58c",
       "version_major": 2,
       "version_minor": 0
      },
      "text/plain": [
       "  0%|          | 0/468 [00:00<?, ?it/s]"
      ]
     },
     "metadata": {},
     "output_type": "display_data"
    },
    {
     "name": "stdout",
     "output_type": "stream",
     "text": [
      " iter : 100 avg_loss : 0.001973520448336785\n",
      " iter : 200 avg_loss : 0.001376226595357366\n",
      " iter : 300 avg_loss : 0.0018532724261679809\n",
      " iter : 400 avg_loss : 0.0022507961283702114\n",
      "epoch : 79, total train loss : 0.9743888564930785\n"
     ]
    },
    {
     "data": {
      "application/vnd.jupyter.widget-view+json": {
       "model_id": "550a4a64cfd34faa9c3f7df517336248",
       "version_major": 2,
       "version_minor": 0
      },
      "text/plain": [
       "  0%|          | 0/468 [00:00<?, ?it/s]"
      ]
     },
     "metadata": {},
     "output_type": "display_data"
    },
    {
     "name": "stdout",
     "output_type": "stream",
     "text": [
      " iter : 100 avg_loss : 0.0019350655793323312\n",
      " iter : 200 avg_loss : 0.0013570961300604267\n",
      " iter : 300 avg_loss : 0.001384016073869437\n",
      " iter : 400 avg_loss : 0.001299492962447175\n",
      "epoch : 80, total train loss : 0.5512069224316747\n"
     ]
    },
    {
     "data": {
      "application/vnd.jupyter.widget-view+json": {
       "model_id": "ce838d78fbca48928a3b7b175137e4c6",
       "version_major": 2,
       "version_minor": 0
      },
      "text/plain": [
       "  0%|          | 0/468 [00:00<?, ?it/s]"
      ]
     },
     "metadata": {},
     "output_type": "display_data"
    },
    {
     "name": "stdout",
     "output_type": "stream",
     "text": [
      " iter : 100 avg_loss : 0.0023379522085429016\n",
      " iter : 200 avg_loss : 0.0018755944242252554\n",
      " iter : 300 avg_loss : 0.001804059836599663\n",
      " iter : 400 avg_loss : 0.0019544078964497656\n",
      "epoch : 81, total train loss : 0.8441769176765774\n"
     ]
    },
    {
     "data": {
      "application/vnd.jupyter.widget-view+json": {
       "model_id": "3d3f4ad94903466da7a3c6a55b20dfd5",
       "version_major": 2,
       "version_minor": 0
      },
      "text/plain": [
       "  0%|          | 0/468 [00:00<?, ?it/s]"
      ]
     },
     "metadata": {},
     "output_type": "display_data"
    },
    {
     "name": "stdout",
     "output_type": "stream",
     "text": [
      " iter : 100 avg_loss : 0.0003708504340397667\n",
      " iter : 200 avg_loss : 0.001669152228397479\n",
      " iter : 300 avg_loss : 0.0014643848460089734\n",
      " iter : 400 avg_loss : 0.0012532177248101562\n",
      "epoch : 82, total train loss : 0.6722768563736281\n"
     ]
    },
    {
     "data": {
      "application/vnd.jupyter.widget-view+json": {
       "model_id": "465dbf8ae91c43959e98e5d8fac6fb1e",
       "version_major": 2,
       "version_minor": 0
      },
      "text/plain": [
       "  0%|          | 0/468 [00:00<?, ?it/s]"
      ]
     },
     "metadata": {},
     "output_type": "display_data"
    },
    {
     "name": "stdout",
     "output_type": "stream",
     "text": [
      " iter : 100 avg_loss : 0.0012014616438045778\n",
      " iter : 200 avg_loss : 0.001667646533665561\n",
      " iter : 300 avg_loss : 0.0013388061299076527\n",
      " iter : 400 avg_loss : 0.0016088476057379353\n",
      "epoch : 83, total train loss : 0.7222960556331373\n"
     ]
    },
    {
     "data": {
      "application/vnd.jupyter.widget-view+json": {
       "model_id": "600f82cf88ff495198c60a3a4f6ca70b",
       "version_major": 2,
       "version_minor": 0
      },
      "text/plain": [
       "  0%|          | 0/468 [00:00<?, ?it/s]"
      ]
     },
     "metadata": {},
     "output_type": "display_data"
    },
    {
     "name": "stdout",
     "output_type": "stream",
     "text": [
      " iter : 100 avg_loss : 0.0001823422584755008\n",
      " iter : 200 avg_loss : 0.0013355045622904526\n",
      " iter : 300 avg_loss : 0.001748119786771743\n",
      " iter : 400 avg_loss : 0.0015663365870128131\n",
      "epoch : 84, total train loss : 0.6580108884289757\n"
     ]
    },
    {
     "data": {
      "application/vnd.jupyter.widget-view+json": {
       "model_id": "2f668686d81e4c8cbfb3c35708bea656",
       "version_major": 2,
       "version_minor": 0
      },
      "text/plain": [
       "  0%|          | 0/468 [00:00<?, ?it/s]"
      ]
     },
     "metadata": {},
     "output_type": "display_data"
    },
    {
     "name": "stdout",
     "output_type": "stream",
     "text": [
      " iter : 100 avg_loss : 0.0016156960564239853\n",
      " iter : 200 avg_loss : 0.0029961800076728196\n",
      " iter : 300 avg_loss : 0.0025777242129311163\n",
      " iter : 400 avg_loss : 0.0021519344545785656\n",
      "epoch : 85, total train loss : 1.0505782255967233\n"
     ]
    },
    {
     "data": {
      "application/vnd.jupyter.widget-view+json": {
       "model_id": "8b99f79c96684fa785ef5a771e91405d",
       "version_major": 2,
       "version_minor": 0
      },
      "text/plain": [
       "  0%|          | 0/468 [00:00<?, ?it/s]"
      ]
     },
     "metadata": {},
     "output_type": "display_data"
    },
    {
     "name": "stdout",
     "output_type": "stream",
     "text": [
      " iter : 100 avg_loss : 0.0004819751359525526\n",
      " iter : 200 avg_loss : 0.0006885897724299639\n",
      " iter : 300 avg_loss : 0.0007492332007356595\n",
      " iter : 400 avg_loss : 0.0009964152691792805\n",
      "epoch : 86, total train loss : 0.570679807735786\n"
     ]
    },
    {
     "data": {
      "application/vnd.jupyter.widget-view+json": {
       "model_id": "fa95ab46cd3d482fb21885f6507786cd",
       "version_major": 2,
       "version_minor": 0
      },
      "text/plain": [
       "  0%|          | 0/468 [00:00<?, ?it/s]"
      ]
     },
     "metadata": {},
     "output_type": "display_data"
    },
    {
     "name": "stdout",
     "output_type": "stream",
     "text": [
      " iter : 100 avg_loss : 0.0008636563801337616\n",
      " iter : 200 avg_loss : 0.0007081431596520815\n",
      " iter : 300 avg_loss : 0.0005335681907074275\n",
      " iter : 400 avg_loss : 0.001432499129348237\n",
      "epoch : 87, total train loss : 0.7281175023808402\n"
     ]
    },
    {
     "data": {
      "application/vnd.jupyter.widget-view+json": {
       "model_id": "4fbddf68aecd4994a263457d220ee797",
       "version_major": 2,
       "version_minor": 0
      },
      "text/plain": [
       "  0%|          | 0/468 [00:00<?, ?it/s]"
      ]
     },
     "metadata": {},
     "output_type": "display_data"
    },
    {
     "name": "stdout",
     "output_type": "stream",
     "text": [
      " iter : 100 avg_loss : 0.0007631692894528897\n",
      " iter : 200 avg_loss : 0.00095792102895075\n",
      " iter : 300 avg_loss : 0.0009379771228395839\n",
      " iter : 400 avg_loss : 0.0008738307531876899\n",
      "epoch : 88, total train loss : 0.37955812733167704\n"
     ]
    },
    {
     "data": {
      "application/vnd.jupyter.widget-view+json": {
       "model_id": "1f16989275784dd5ac0777d42247d72a",
       "version_major": 2,
       "version_minor": 0
      },
      "text/plain": [
       "  0%|          | 0/468 [00:00<?, ?it/s]"
      ]
     },
     "metadata": {},
     "output_type": "display_data"
    },
    {
     "name": "stdout",
     "output_type": "stream",
     "text": [
      " iter : 100 avg_loss : 0.002673126964368748\n",
      " iter : 200 avg_loss : 0.002491778744893054\n",
      " iter : 300 avg_loss : 0.0024986672311820258\n",
      " iter : 400 avg_loss : 0.0023250916325690697\n",
      "epoch : 89, total train loss : 1.0881760351601315\n"
     ]
    },
    {
     "data": {
      "application/vnd.jupyter.widget-view+json": {
       "model_id": "66426ab3ad0a4b12904db3f9fed96a50",
       "version_major": 2,
       "version_minor": 0
      },
      "text/plain": [
       "  0%|          | 0/468 [00:00<?, ?it/s]"
      ]
     },
     "metadata": {},
     "output_type": "display_data"
    },
    {
     "name": "stdout",
     "output_type": "stream",
     "text": [
      " iter : 100 avg_loss : 0.0009833172116123024\n",
      " iter : 200 avg_loss : 0.0014522090972695879\n",
      " iter : 300 avg_loss : 0.0014941777589244035\n",
      " iter : 400 avg_loss : 0.0012834652896447096\n",
      "epoch : 90, total train loss : 0.5265620602222043\n"
     ]
    },
    {
     "data": {
      "application/vnd.jupyter.widget-view+json": {
       "model_id": "620a0ce19dbd48c5bae610de77359458",
       "version_major": 2,
       "version_minor": 0
      },
      "text/plain": [
       "  0%|          | 0/468 [00:00<?, ?it/s]"
      ]
     },
     "metadata": {},
     "output_type": "display_data"
    },
    {
     "name": "stdout",
     "output_type": "stream",
     "text": [
      " iter : 100 avg_loss : 0.0010426505699524568\n",
      " iter : 200 avg_loss : 0.0016186285338994821\n",
      " iter : 300 avg_loss : 0.0011800673805282714\n",
      " iter : 400 avg_loss : 0.0009792226433589235\n",
      "epoch : 91, total train loss : 0.45742798523667716\n"
     ]
    },
    {
     "data": {
      "application/vnd.jupyter.widget-view+json": {
       "model_id": "63c1b8b58abe4db38d2d3911a46118fb",
       "version_major": 2,
       "version_minor": 0
      },
      "text/plain": [
       "  0%|          | 0/468 [00:00<?, ?it/s]"
      ]
     },
     "metadata": {},
     "output_type": "display_data"
    },
    {
     "name": "stdout",
     "output_type": "stream",
     "text": [
      " iter : 100 avg_loss : 0.001327672705792793\n",
      " iter : 200 avg_loss : 0.0010202238746751392\n",
      " iter : 300 avg_loss : 0.0010371761513518626\n",
      " iter : 400 avg_loss : 0.001224926109871376\n",
      "epoch : 92, total train loss : 0.659843758099214\n"
     ]
    },
    {
     "data": {
      "application/vnd.jupyter.widget-view+json": {
       "model_id": "4b076d01237e43b3a686281268f665a4",
       "version_major": 2,
       "version_minor": 0
      },
      "text/plain": [
       "  0%|          | 0/468 [00:00<?, ?it/s]"
      ]
     },
     "metadata": {},
     "output_type": "display_data"
    },
    {
     "name": "stdout",
     "output_type": "stream",
     "text": [
      " iter : 100 avg_loss : 0.0006902894515997105\n",
      " iter : 200 avg_loss : 0.0008968122486709263\n",
      " iter : 300 avg_loss : 0.0011254339683925707\n",
      " iter : 400 avg_loss : 0.0010227644076099196\n",
      "epoch : 93, total train loss : 0.4542756184641945\n"
     ]
    },
    {
     "data": {
      "application/vnd.jupyter.widget-view+json": {
       "model_id": "0f32e4836db447c194614d8ea2944bbb",
       "version_major": 2,
       "version_minor": 0
      },
      "text/plain": [
       "  0%|          | 0/468 [00:00<?, ?it/s]"
      ]
     },
     "metadata": {},
     "output_type": "display_data"
    },
    {
     "name": "stdout",
     "output_type": "stream",
     "text": [
      " iter : 100 avg_loss : 0.0010839379271487815\n",
      " iter : 200 avg_loss : 0.0011154797726595689\n",
      " iter : 300 avg_loss : 0.00101929107261905\n",
      " iter : 400 avg_loss : 0.0011541533803551829\n",
      "epoch : 94, total train loss : 0.5229465725806222\n"
     ]
    },
    {
     "data": {
      "application/vnd.jupyter.widget-view+json": {
       "model_id": "3fe75884ef554f9394ba94ae51d2c895",
       "version_major": 2,
       "version_minor": 0
      },
      "text/plain": [
       "  0%|          | 0/468 [00:00<?, ?it/s]"
      ]
     },
     "metadata": {},
     "output_type": "display_data"
    },
    {
     "name": "stdout",
     "output_type": "stream",
     "text": [
      " iter : 100 avg_loss : 0.0007245086236059706\n",
      " iter : 200 avg_loss : 0.0009115258905869439\n",
      " iter : 300 avg_loss : 0.001079835452335279\n",
      " iter : 400 avg_loss : 0.0014374796537907032\n",
      "epoch : 95, total train loss : 0.691268703989607\n"
     ]
    },
    {
     "data": {
      "application/vnd.jupyter.widget-view+json": {
       "model_id": "84a11f246675486aa799937817971957",
       "version_major": 2,
       "version_minor": 0
      },
      "text/plain": [
       "  0%|          | 0/468 [00:00<?, ?it/s]"
      ]
     },
     "metadata": {},
     "output_type": "display_data"
    },
    {
     "name": "stdout",
     "output_type": "stream",
     "text": [
      " iter : 100 avg_loss : 0.0031042562790526062\n",
      " iter : 200 avg_loss : 0.002193415801033325\n",
      " iter : 300 avg_loss : 0.0019839294055774797\n",
      " iter : 400 avg_loss : 0.0016662443421546413\n",
      "epoch : 96, total train loss : 0.6964036800397366\n"
     ]
    },
    {
     "data": {
      "application/vnd.jupyter.widget-view+json": {
       "model_id": "e396a990777d4868b351ec502969b762",
       "version_major": 2,
       "version_minor": 0
      },
      "text/plain": [
       "  0%|          | 0/468 [00:00<?, ?it/s]"
      ]
     },
     "metadata": {},
     "output_type": "display_data"
    },
    {
     "name": "stdout",
     "output_type": "stream",
     "text": [
      " iter : 100 avg_loss : 0.0003052377456282329\n",
      " iter : 200 avg_loss : 0.000654991543630814\n",
      " iter : 300 avg_loss : 0.0008341388553442168\n",
      " iter : 400 avg_loss : 0.000868899524775415\n",
      "epoch : 97, total train loss : 0.40707066852084495\n"
     ]
    },
    {
     "data": {
      "application/vnd.jupyter.widget-view+json": {
       "model_id": "9b03bef27ebb403687aa5ab60f294499",
       "version_major": 2,
       "version_minor": 0
      },
      "text/plain": [
       "  0%|          | 0/468 [00:00<?, ?it/s]"
      ]
     },
     "metadata": {},
     "output_type": "display_data"
    },
    {
     "name": "stdout",
     "output_type": "stream",
     "text": [
      " iter : 100 avg_loss : 0.0011295870564913457\n",
      " iter : 200 avg_loss : 0.0016773194343636534\n",
      " iter : 300 avg_loss : 0.0014395254585861039\n",
      " iter : 400 avg_loss : 0.0013562754589014504\n",
      "epoch : 98, total train loss : 0.6138044184401679\n"
     ]
    },
    {
     "data": {
      "application/vnd.jupyter.widget-view+json": {
       "model_id": "75a74b396b29427b8c1416d5f1402997",
       "version_major": 2,
       "version_minor": 0
      },
      "text/plain": [
       "  0%|          | 0/468 [00:00<?, ?it/s]"
      ]
     },
     "metadata": {},
     "output_type": "display_data"
    },
    {
     "name": "stdout",
     "output_type": "stream",
     "text": [
      " iter : 100 avg_loss : 0.0019543542581004656\n",
      " iter : 200 avg_loss : 0.001908384016251148\n",
      " iter : 300 avg_loss : 0.0015769507147206242\n",
      " iter : 400 avg_loss : 0.0013882424927294324\n",
      "epoch : 99, total train loss : 0.6704611247715775\n"
     ]
    },
    {
     "data": {
      "application/vnd.jupyter.widget-view+json": {
       "model_id": "f7553d19e4d14a7c8e63c6f8282d77a2",
       "version_major": 2,
       "version_minor": 0
      },
      "text/plain": [
       "  0%|          | 0/468 [00:00<?, ?it/s]"
      ]
     },
     "metadata": {},
     "output_type": "display_data"
    },
    {
     "name": "stdout",
     "output_type": "stream",
     "text": [
      " iter : 100 avg_loss : 0.0037341589493757963\n",
      " iter : 200 avg_loss : 0.002937483970364383\n",
      " iter : 300 avg_loss : 0.0025083080003840525\n",
      " iter : 400 avg_loss : 0.002329102658285933\n",
      "epoch : 100, total train loss : 0.9707745651110145\n"
     ]
    },
    {
     "data": {
      "application/vnd.jupyter.widget-view+json": {
       "model_id": "244af468e4064e98a692c5e0c52b768b",
       "version_major": 2,
       "version_minor": 0
      },
      "text/plain": [
       "  0%|          | 0/468 [00:00<?, ?it/s]"
      ]
     },
     "metadata": {},
     "output_type": "display_data"
    },
    {
     "name": "stdout",
     "output_type": "stream",
     "text": [
      " iter : 100 avg_loss : 0.0006100201141657635\n",
      " iter : 200 avg_loss : 0.0004806588346525587\n",
      " iter : 300 avg_loss : 0.000754098747424905\n",
      " iter : 400 avg_loss : 0.0006995964956774969\n",
      "epoch : 101, total train loss : 0.31289585152285326\n"
     ]
    },
    {
     "data": {
      "application/vnd.jupyter.widget-view+json": {
       "model_id": "209cd6c0d2c8407bbd74f09bb079f198",
       "version_major": 2,
       "version_minor": 0
      },
      "text/plain": [
       "  0%|          | 0/468 [00:00<?, ?it/s]"
      ]
     },
     "metadata": {},
     "output_type": "display_data"
    },
    {
     "name": "stdout",
     "output_type": "stream",
     "text": [
      " iter : 100 avg_loss : 0.0018173225032478513\n",
      " iter : 200 avg_loss : 0.0012072884753592916\n",
      " iter : 300 avg_loss : 0.0010495331119807362\n",
      " iter : 400 avg_loss : 0.001011523760699049\n",
      "epoch : 102, total train loss : 0.519064253895408\n"
     ]
    },
    {
     "data": {
      "application/vnd.jupyter.widget-view+json": {
       "model_id": "dbac5f253b06477e9473d01cb33526eb",
       "version_major": 2,
       "version_minor": 0
      },
      "text/plain": [
       "  0%|          | 0/468 [00:00<?, ?it/s]"
      ]
     },
     "metadata": {},
     "output_type": "display_data"
    },
    {
     "name": "stdout",
     "output_type": "stream",
     "text": [
      " iter : 100 avg_loss : 0.00045498826252554636\n",
      " iter : 200 avg_loss : 0.0010546703730075534\n",
      " iter : 300 avg_loss : 0.0014401389733614185\n",
      " iter : 400 avg_loss : 0.0013049545446336451\n",
      "epoch : 103, total train loss : 0.7047390762405996\n"
     ]
    },
    {
     "data": {
      "application/vnd.jupyter.widget-view+json": {
       "model_id": "b605715fdbc549cdb9fd52907d74fc80",
       "version_major": 2,
       "version_minor": 0
      },
      "text/plain": [
       "  0%|          | 0/468 [00:00<?, ?it/s]"
      ]
     },
     "metadata": {},
     "output_type": "display_data"
    },
    {
     "name": "stdout",
     "output_type": "stream",
     "text": [
      " iter : 100 avg_loss : 0.0009046194750965241\n",
      " iter : 200 avg_loss : 0.001572332759344306\n",
      " iter : 300 avg_loss : 0.001443180808896424\n",
      " iter : 400 avg_loss : 0.0012907407797321468\n",
      "epoch : 104, total train loss : 0.5735820540660939\n"
     ]
    },
    {
     "data": {
      "application/vnd.jupyter.widget-view+json": {
       "model_id": "fd310ce976e3492080310e14bc6cc7ec",
       "version_major": 2,
       "version_minor": 0
      },
      "text/plain": [
       "  0%|          | 0/468 [00:00<?, ?it/s]"
      ]
     },
     "metadata": {},
     "output_type": "display_data"
    },
    {
     "name": "stdout",
     "output_type": "stream",
     "text": [
      " iter : 100 avg_loss : 0.0002423953636986198\n",
      " iter : 200 avg_loss : 0.0005952591373404914\n",
      " iter : 300 avg_loss : 0.0005172530054775848\n",
      " iter : 400 avg_loss : 0.001077163513583983\n",
      "epoch : 105, total train loss : 0.6008039091690591\n"
     ]
    },
    {
     "data": {
      "application/vnd.jupyter.widget-view+json": {
       "model_id": "3e05a43599134d66be149fd7224025f5",
       "version_major": 2,
       "version_minor": 0
      },
      "text/plain": [
       "  0%|          | 0/468 [00:00<?, ?it/s]"
      ]
     },
     "metadata": {},
     "output_type": "display_data"
    },
    {
     "name": "stdout",
     "output_type": "stream",
     "text": [
      " iter : 100 avg_loss : 0.0011154211456437225\n",
      " iter : 200 avg_loss : 0.0011508435350231138\n",
      " iter : 300 avg_loss : 0.000991457658528816\n",
      " iter : 400 avg_loss : 0.0010325573973651104\n",
      "epoch : 106, total train loss : 0.4577188870836153\n"
     ]
    },
    {
     "data": {
      "application/vnd.jupyter.widget-view+json": {
       "model_id": "345a4bd25db84e229845974d3f366f19",
       "version_major": 2,
       "version_minor": 0
      },
      "text/plain": [
       "  0%|          | 0/468 [00:00<?, ?it/s]"
      ]
     },
     "metadata": {},
     "output_type": "display_data"
    },
    {
     "name": "stdout",
     "output_type": "stream",
     "text": [
      " iter : 100 avg_loss : 0.0002528844612913872\n",
      " iter : 200 avg_loss : 0.00043323983784148367\n",
      " iter : 300 avg_loss : 0.0008033370559883224\n",
      " iter : 400 avg_loss : 0.001012006573053128\n",
      "epoch : 107, total train loss : 0.45123405326359034\n"
     ]
    },
    {
     "data": {
      "application/vnd.jupyter.widget-view+json": {
       "model_id": "8d74b6b03de0430ab8ddf8823b1dfc4b",
       "version_major": 2,
       "version_minor": 0
      },
      "text/plain": [
       "  0%|          | 0/468 [00:00<?, ?it/s]"
      ]
     },
     "metadata": {},
     "output_type": "display_data"
    },
    {
     "name": "stdout",
     "output_type": "stream",
     "text": [
      " iter : 100 avg_loss : 0.0005341362440981356\n",
      " iter : 200 avg_loss : 0.0008622689356832325\n",
      " iter : 300 avg_loss : 0.0011650725565050379\n",
      " iter : 400 avg_loss : 0.0009496372334879766\n",
      "epoch : 108, total train loss : 0.4308982547084952\n"
     ]
    },
    {
     "data": {
      "application/vnd.jupyter.widget-view+json": {
       "model_id": "68a851b5a9a949e6b4907199f32e3f40",
       "version_major": 2,
       "version_minor": 0
      },
      "text/plain": [
       "  0%|          | 0/468 [00:00<?, ?it/s]"
      ]
     },
     "metadata": {},
     "output_type": "display_data"
    },
    {
     "name": "stdout",
     "output_type": "stream",
     "text": [
      " iter : 100 avg_loss : 0.0004526184808338485\n",
      " iter : 200 avg_loss : 0.0015675818058767277\n",
      " iter : 300 avg_loss : 0.0016717815516413264\n",
      " iter : 400 avg_loss : 0.0016112517704148389\n",
      "epoch : 109, total train loss : 0.747842677759138\n"
     ]
    },
    {
     "data": {
      "application/vnd.jupyter.widget-view+json": {
       "model_id": "97ea4665c84745f48407a6215fb41078",
       "version_major": 2,
       "version_minor": 0
      },
      "text/plain": [
       "  0%|          | 0/468 [00:00<?, ?it/s]"
      ]
     },
     "metadata": {},
     "output_type": "display_data"
    },
    {
     "name": "stdout",
     "output_type": "stream",
     "text": [
      " iter : 100 avg_loss : 0.0009237491094813777\n",
      " iter : 200 avg_loss : 0.0007242558874023075\n",
      " iter : 300 avg_loss : 0.0005996866100160029\n",
      " iter : 400 avg_loss : 0.0006585024800112472\n",
      "epoch : 110, total train loss : 0.35304949242452466\n"
     ]
    },
    {
     "data": {
      "application/vnd.jupyter.widget-view+json": {
       "model_id": "297b6da10de04e28aaeef2485c7051d6",
       "version_major": 2,
       "version_minor": 0
      },
      "text/plain": [
       "  0%|          | 0/468 [00:00<?, ?it/s]"
      ]
     },
     "metadata": {},
     "output_type": "display_data"
    },
    {
     "name": "stdout",
     "output_type": "stream",
     "text": [
      " iter : 100 avg_loss : 0.0009029977043803683\n",
      " iter : 200 avg_loss : 0.0010171627848862385\n",
      " iter : 300 avg_loss : 0.0010443680375467087\n",
      " iter : 400 avg_loss : 0.0009631972706095837\n",
      "epoch : 111, total train loss : 0.42164280147738964\n"
     ]
    },
    {
     "data": {
      "application/vnd.jupyter.widget-view+json": {
       "model_id": "8b2c1e07b04d45c7a18e513ec1803863",
       "version_major": 2,
       "version_minor": 0
      },
      "text/plain": [
       "  0%|          | 0/468 [00:00<?, ?it/s]"
      ]
     },
     "metadata": {},
     "output_type": "display_data"
    },
    {
     "name": "stdout",
     "output_type": "stream",
     "text": [
      " iter : 100 avg_loss : 0.000678874413383781\n",
      " iter : 200 avg_loss : 0.0006611980722658828\n",
      " iter : 300 avg_loss : 0.0014127401676486072\n",
      " iter : 400 avg_loss : 0.0011492858422735884\n",
      "epoch : 112, total train loss : 0.5020151927736904\n"
     ]
    },
    {
     "data": {
      "application/vnd.jupyter.widget-view+json": {
       "model_id": "4dcc23f1cac9495592b98ca1badb47c2",
       "version_major": 2,
       "version_minor": 0
      },
      "text/plain": [
       "  0%|          | 0/468 [00:00<?, ?it/s]"
      ]
     },
     "metadata": {},
     "output_type": "display_data"
    },
    {
     "name": "stdout",
     "output_type": "stream",
     "text": [
      " iter : 100 avg_loss : 0.0019612523863665387\n",
      " iter : 200 avg_loss : 0.0013189974400255266\n",
      " iter : 300 avg_loss : 0.0010960189742351646\n",
      " iter : 400 avg_loss : 0.00121609703427886\n",
      "epoch : 113, total train loss : 0.5988254851944532\n"
     ]
    },
    {
     "data": {
      "application/vnd.jupyter.widget-view+json": {
       "model_id": "9f7134bc69c649d097ebfbac124de24d",
       "version_major": 2,
       "version_minor": 0
      },
      "text/plain": [
       "  0%|          | 0/468 [00:00<?, ?it/s]"
      ]
     },
     "metadata": {},
     "output_type": "display_data"
    },
    {
     "name": "stdout",
     "output_type": "stream",
     "text": [
      " iter : 100 avg_loss : 0.0007685479352903713\n",
      " iter : 200 avg_loss : 0.0005644180461069937\n",
      " iter : 300 avg_loss : 0.0005620096046870534\n",
      " iter : 400 avg_loss : 0.0004922015360180865\n",
      "epoch : 114, total train loss : 0.30874947990304236\n"
     ]
    },
    {
     "data": {
      "application/vnd.jupyter.widget-view+json": {
       "model_id": "099100502531402198e1e613ca051214",
       "version_major": 2,
       "version_minor": 0
      },
      "text/plain": [
       "  0%|          | 0/468 [00:00<?, ?it/s]"
      ]
     },
     "metadata": {},
     "output_type": "display_data"
    },
    {
     "name": "stdout",
     "output_type": "stream",
     "text": [
      " iter : 100 avg_loss : 0.0014702648903323734\n",
      " iter : 200 avg_loss : 0.0009213867002787879\n",
      " iter : 300 avg_loss : 0.0008727292467917399\n",
      " iter : 400 avg_loss : 0.0013443530846824103\n",
      "epoch : 115, total train loss : 0.7802480566146528\n"
     ]
    },
    {
     "data": {
      "application/vnd.jupyter.widget-view+json": {
       "model_id": "7c12bf28d14f438f9d9822af42a73d0a",
       "version_major": 2,
       "version_minor": 0
      },
      "text/plain": [
       "  0%|          | 0/468 [00:00<?, ?it/s]"
      ]
     },
     "metadata": {},
     "output_type": "display_data"
    },
    {
     "name": "stdout",
     "output_type": "stream",
     "text": [
      " iter : 100 avg_loss : 0.0007109000229047524\n",
      " iter : 200 avg_loss : 0.0008022815615959189\n",
      " iter : 300 avg_loss : 0.0007405224761631265\n",
      " iter : 400 avg_loss : 0.0010598402964131992\n",
      "epoch : 116, total train loss : 0.5174270346403773\n"
     ]
    },
    {
     "data": {
      "application/vnd.jupyter.widget-view+json": {
       "model_id": "d30e52a3a4f245c5979486502116cef4",
       "version_major": 2,
       "version_minor": 0
      },
      "text/plain": [
       "  0%|          | 0/468 [00:00<?, ?it/s]"
      ]
     },
     "metadata": {},
     "output_type": "display_data"
    },
    {
     "name": "stdout",
     "output_type": "stream",
     "text": [
      " iter : 100 avg_loss : 0.0012301955257748886\n",
      " iter : 200 avg_loss : 0.0008891012818668287\n",
      " iter : 300 avg_loss : 0.0008096606001004147\n",
      " iter : 400 avg_loss : 0.0007295151621176644\n",
      "epoch : 117, total train loss : 0.36357982186629556\n"
     ]
    },
    {
     "data": {
      "application/vnd.jupyter.widget-view+json": {
       "model_id": "3eb8d7b6a4524fea87af61786f5e0338",
       "version_major": 2,
       "version_minor": 0
      },
      "text/plain": [
       "  0%|          | 0/468 [00:00<?, ?it/s]"
      ]
     },
     "metadata": {},
     "output_type": "display_data"
    },
    {
     "name": "stdout",
     "output_type": "stream",
     "text": [
      " iter : 100 avg_loss : 0.000221680359904326\n",
      " iter : 200 avg_loss : 0.00024902174010250634\n",
      " iter : 300 avg_loss : 0.00021787470776511478\n",
      " iter : 400 avg_loss : 0.0006950184974390439\n",
      "epoch : 118, total train loss : 0.38758753496740894\n"
     ]
    },
    {
     "data": {
      "application/vnd.jupyter.widget-view+json": {
       "model_id": "8c1545b6bc784d808f6535a94ab28006",
       "version_major": 2,
       "version_minor": 0
      },
      "text/plain": [
       "  0%|          | 0/468 [00:00<?, ?it/s]"
      ]
     },
     "metadata": {},
     "output_type": "display_data"
    },
    {
     "name": "stdout",
     "output_type": "stream",
     "text": [
      " iter : 100 avg_loss : 0.00108761413801858\n",
      " iter : 200 avg_loss : 0.000676014934796001\n",
      " iter : 300 avg_loss : 0.0005272950155889096\n",
      " iter : 400 avg_loss : 0.0005035127599879985\n",
      "epoch : 119, total train loss : 0.3170881964722696\n"
     ]
    },
    {
     "data": {
      "application/vnd.jupyter.widget-view+json": {
       "model_id": "fc13e650a70f4bfba4e43c9c1b86e019",
       "version_major": 2,
       "version_minor": 0
      },
      "text/plain": [
       "  0%|          | 0/468 [00:00<?, ?it/s]"
      ]
     },
     "metadata": {},
     "output_type": "display_data"
    },
    {
     "name": "stdout",
     "output_type": "stream",
     "text": [
      " iter : 100 avg_loss : 0.00037813045836173844\n",
      " iter : 200 avg_loss : 0.00026672581234308266\n",
      " iter : 300 avg_loss : 0.0005229991088470361\n",
      " iter : 400 avg_loss : 0.0009380579217353002\n",
      "epoch : 120, total train loss : 0.4022345858947034\n"
     ]
    },
    {
     "data": {
      "application/vnd.jupyter.widget-view+json": {
       "model_id": "59cce5f291074970b12972d1d569e5ff",
       "version_major": 2,
       "version_minor": 0
      },
      "text/plain": [
       "  0%|          | 0/468 [00:00<?, ?it/s]"
      ]
     },
     "metadata": {},
     "output_type": "display_data"
    },
    {
     "name": "stdout",
     "output_type": "stream",
     "text": [
      " iter : 100 avg_loss : 0.0011807726650681616\n",
      " iter : 200 avg_loss : 0.0013922951900943302\n",
      " iter : 300 avg_loss : 0.0012530207519787003\n",
      " iter : 400 avg_loss : 0.0011276877441362388\n",
      "epoch : 121, total train loss : 0.500552011146894\n"
     ]
    },
    {
     "data": {
      "application/vnd.jupyter.widget-view+json": {
       "model_id": "9740df22ce87420a9ebfa8d45e8a4958",
       "version_major": 2,
       "version_minor": 0
      },
      "text/plain": [
       "  0%|          | 0/468 [00:00<?, ?it/s]"
      ]
     },
     "metadata": {},
     "output_type": "display_data"
    },
    {
     "name": "stdout",
     "output_type": "stream",
     "text": [
      " iter : 100 avg_loss : 0.0004868096161935398\n",
      " iter : 200 avg_loss : 0.0010671772815091885\n",
      " iter : 300 avg_loss : 0.002558445521851193\n",
      " iter : 400 avg_loss : 0.002285830530290802\n",
      "epoch : 122, total train loss : 0.9536506338065891\n"
     ]
    },
    {
     "data": {
      "application/vnd.jupyter.widget-view+json": {
       "model_id": "ef8e74fd4d80467e9bd36fe911a340d4",
       "version_major": 2,
       "version_minor": 0
      },
      "text/plain": [
       "  0%|          | 0/468 [00:00<?, ?it/s]"
      ]
     },
     "metadata": {},
     "output_type": "display_data"
    },
    {
     "name": "stdout",
     "output_type": "stream",
     "text": [
      " iter : 100 avg_loss : 0.0011589757513559107\n",
      " iter : 200 avg_loss : 0.0012077122827378161\n",
      " iter : 300 avg_loss : 0.0011004511887347235\n",
      " iter : 400 avg_loss : 0.0012447844687031306\n",
      "epoch : 123, total train loss : 0.6293412050105189\n"
     ]
    },
    {
     "data": {
      "application/vnd.jupyter.widget-view+json": {
       "model_id": "6ca388a5808d4285b6e456a8f3cab96d",
       "version_major": 2,
       "version_minor": 0
      },
      "text/plain": [
       "  0%|          | 0/468 [00:00<?, ?it/s]"
      ]
     },
     "metadata": {},
     "output_type": "display_data"
    },
    {
     "name": "stdout",
     "output_type": "stream",
     "text": [
      " iter : 100 avg_loss : 0.001177198904351826\n",
      " iter : 200 avg_loss : 0.0006644718291272512\n",
      " iter : 300 avg_loss : 0.0006421937228841064\n",
      " iter : 400 avg_loss : 0.0007560845889065604\n",
      "epoch : 124, total train loss : 0.43865637501085075\n"
     ]
    },
    {
     "data": {
      "application/vnd.jupyter.widget-view+json": {
       "model_id": "352f17dac79044ef8b0cd24233571481",
       "version_major": 2,
       "version_minor": 0
      },
      "text/plain": [
       "  0%|          | 0/468 [00:00<?, ?it/s]"
      ]
     },
     "metadata": {},
     "output_type": "display_data"
    },
    {
     "name": "stdout",
     "output_type": "stream",
     "text": [
      " iter : 100 avg_loss : 0.0005889263577728343\n",
      " iter : 200 avg_loss : 0.0008035703711095721\n",
      " iter : 300 avg_loss : 0.0006829924335592825\n",
      " iter : 400 avg_loss : 0.0008616365501909229\n",
      "epoch : 125, total train loss : 0.42169540164258024\n"
     ]
    },
    {
     "data": {
      "application/vnd.jupyter.widget-view+json": {
       "model_id": "b36eb934e64a4d0aaf46df98a539deaf",
       "version_major": 2,
       "version_minor": 0
      },
      "text/plain": [
       "  0%|          | 0/468 [00:00<?, ?it/s]"
      ]
     },
     "metadata": {},
     "output_type": "display_data"
    },
    {
     "name": "stdout",
     "output_type": "stream",
     "text": [
      " iter : 100 avg_loss : 0.0013597168076967137\n",
      " iter : 200 avg_loss : 0.0009941836448172125\n",
      " iter : 300 avg_loss : 0.0009650606653538792\n",
      " iter : 400 avg_loss : 0.0009284830578917536\n",
      "epoch : 126, total train loss : 0.38547091597763483\n"
     ]
    },
    {
     "data": {
      "application/vnd.jupyter.widget-view+json": {
       "model_id": "605c7608d61e4c73b0f8d9de5ddd5717",
       "version_major": 2,
       "version_minor": 0
      },
      "text/plain": [
       "  0%|          | 0/468 [00:00<?, ?it/s]"
      ]
     },
     "metadata": {},
     "output_type": "display_data"
    },
    {
     "name": "stdout",
     "output_type": "stream",
     "text": [
      " iter : 100 avg_loss : 0.00013739619497584954\n",
      " iter : 200 avg_loss : 0.00015315201596507677\n",
      " iter : 300 avg_loss : 0.00040941235495476274\n",
      " iter : 400 avg_loss : 0.00043657864192425677\n",
      "epoch : 127, total train loss : 0.18037032373229067\n"
     ]
    },
    {
     "data": {
      "application/vnd.jupyter.widget-view+json": {
       "model_id": "942d19ab3c60458787b2839ff607cc1a",
       "version_major": 2,
       "version_minor": 0
      },
      "text/plain": [
       "  0%|          | 0/468 [00:00<?, ?it/s]"
      ]
     },
     "metadata": {},
     "output_type": "display_data"
    },
    {
     "name": "stdout",
     "output_type": "stream",
     "text": [
      " iter : 100 avg_loss : 0.0011042608301326596\n",
      " iter : 200 avg_loss : 0.0008246404924490492\n",
      " iter : 300 avg_loss : 0.0008369678725816243\n",
      " iter : 400 avg_loss : 0.0011031012297852527\n",
      "epoch : 128, total train loss : 0.4972652488278584\n"
     ]
    },
    {
     "data": {
      "application/vnd.jupyter.widget-view+json": {
       "model_id": "acd68c7c0e8a4a3c8658566e9f7b32b4",
       "version_major": 2,
       "version_minor": 0
      },
      "text/plain": [
       "  0%|          | 0/468 [00:00<?, ?it/s]"
      ]
     },
     "metadata": {},
     "output_type": "display_data"
    },
    {
     "name": "stdout",
     "output_type": "stream",
     "text": [
      " iter : 100 avg_loss : 0.0008239952215808444\n",
      " iter : 200 avg_loss : 0.0007406164560120487\n",
      " iter : 300 avg_loss : 0.0005860725981756331\n",
      " iter : 400 avg_loss : 0.0004930587656031449\n",
      "epoch : 129, total train loss : 0.2023870605321605\n"
     ]
    },
    {
     "data": {
      "application/vnd.jupyter.widget-view+json": {
       "model_id": "a9400e217f804a999ff719b9a4261555",
       "version_major": 2,
       "version_minor": 0
      },
      "text/plain": [
       "  0%|          | 0/468 [00:00<?, ?it/s]"
      ]
     },
     "metadata": {},
     "output_type": "display_data"
    },
    {
     "name": "stdout",
     "output_type": "stream",
     "text": [
      " iter : 100 avg_loss : 0.00041047013886512217\n",
      " iter : 200 avg_loss : 0.000523813367649737\n",
      " iter : 300 avg_loss : 0.0006306727860668105\n",
      " iter : 400 avg_loss : 0.0006923737962044996\n",
      "epoch : 130, total train loss : 0.3492409564725705\n"
     ]
    },
    {
     "data": {
      "application/vnd.jupyter.widget-view+json": {
       "model_id": "830ce107fa4c47b892488a622b03e612",
       "version_major": 2,
       "version_minor": 0
      },
      "text/plain": [
       "  0%|          | 0/468 [00:00<?, ?it/s]"
      ]
     },
     "metadata": {},
     "output_type": "display_data"
    },
    {
     "name": "stdout",
     "output_type": "stream",
     "text": [
      " iter : 100 avg_loss : 0.0006165737606886523\n",
      " iter : 200 avg_loss : 0.000535978866000164\n",
      " iter : 300 avg_loss : 0.000501707168810223\n",
      " iter : 400 avg_loss : 0.0004159242495870785\n",
      "epoch : 131, total train loss : 0.22324824214442174\n"
     ]
    },
    {
     "data": {
      "application/vnd.jupyter.widget-view+json": {
       "model_id": "836c1811e9924a90b7a32b072283fe1e",
       "version_major": 2,
       "version_minor": 0
      },
      "text/plain": [
       "  0%|          | 0/468 [00:00<?, ?it/s]"
      ]
     },
     "metadata": {},
     "output_type": "display_data"
    },
    {
     "name": "stdout",
     "output_type": "stream",
     "text": [
      " iter : 100 avg_loss : 0.0001841630259858107\n",
      " iter : 200 avg_loss : 0.0006328039539057784\n",
      " iter : 300 avg_loss : 0.0005462960784724184\n",
      " iter : 400 avg_loss : 0.00046574602557875267\n",
      "epoch : 132, total train loss : 0.2492770864019178\n"
     ]
    },
    {
     "data": {
      "application/vnd.jupyter.widget-view+json": {
       "model_id": "ea66b6017597408dbe8a6de22522cbcc",
       "version_major": 2,
       "version_minor": 0
      },
      "text/plain": [
       "  0%|          | 0/468 [00:00<?, ?it/s]"
      ]
     },
     "metadata": {},
     "output_type": "display_data"
    },
    {
     "name": "stdout",
     "output_type": "stream",
     "text": [
      " iter : 100 avg_loss : 0.000550379447161049\n",
      " iter : 200 avg_loss : 0.0006330740016953485\n",
      " iter : 300 avg_loss : 0.0004789807814931161\n",
      " iter : 400 avg_loss : 0.0005166576312280568\n",
      "epoch : 133, total train loss : 0.20958860478680208\n"
     ]
    },
    {
     "data": {
      "application/vnd.jupyter.widget-view+json": {
       "model_id": "085e57e9618348c6a77a8aa673c6763f",
       "version_major": 2,
       "version_minor": 0
      },
      "text/plain": [
       "  0%|          | 0/468 [00:00<?, ?it/s]"
      ]
     },
     "metadata": {},
     "output_type": "display_data"
    },
    {
     "name": "stdout",
     "output_type": "stream",
     "text": [
      " iter : 100 avg_loss : 0.0005459742494900865\n",
      " iter : 200 avg_loss : 0.0011337102754012563\n",
      " iter : 300 avg_loss : 0.0013645857261540566\n",
      " iter : 400 avg_loss : 0.0018162277330579\n",
      "epoch : 134, total train loss : 0.7709350906930581\n"
     ]
    },
    {
     "data": {
      "application/vnd.jupyter.widget-view+json": {
       "model_id": "31337164a4824b84a944f35b40f8f652",
       "version_major": 2,
       "version_minor": 0
      },
      "text/plain": [
       "  0%|          | 0/468 [00:00<?, ?it/s]"
      ]
     },
     "metadata": {},
     "output_type": "display_data"
    },
    {
     "name": "stdout",
     "output_type": "stream",
     "text": [
      " iter : 100 avg_loss : 0.0005393900763374404\n",
      " iter : 200 avg_loss : 0.0029229518286501845\n",
      " iter : 300 avg_loss : 0.002525967522533392\n",
      " iter : 400 avg_loss : 0.002026329436148444\n",
      "epoch : 135, total train loss : 0.9436818453489195\n"
     ]
    },
    {
     "data": {
      "application/vnd.jupyter.widget-view+json": {
       "model_id": "fbe516220fc14b55813cbbfb08594896",
       "version_major": 2,
       "version_minor": 0
      },
      "text/plain": [
       "  0%|          | 0/468 [00:00<?, ?it/s]"
      ]
     },
     "metadata": {},
     "output_type": "display_data"
    },
    {
     "name": "stdout",
     "output_type": "stream",
     "text": [
      " iter : 100 avg_loss : 0.0007872060272893578\n",
      " iter : 200 avg_loss : 0.0005948081434166852\n",
      " iter : 300 avg_loss : 0.0005543547212816217\n",
      " iter : 400 avg_loss : 0.0007718235950781604\n",
      "epoch : 136, total train loss : 0.34062561710686623\n"
     ]
    },
    {
     "data": {
      "application/vnd.jupyter.widget-view+json": {
       "model_id": "afdae9eaba7945c7b493e786cffb6f32",
       "version_major": 2,
       "version_minor": 0
      },
      "text/plain": [
       "  0%|          | 0/468 [00:00<?, ?it/s]"
      ]
     },
     "metadata": {},
     "output_type": "display_data"
    },
    {
     "name": "stdout",
     "output_type": "stream",
     "text": [
      " iter : 100 avg_loss : 0.0006529560125659372\n",
      " iter : 200 avg_loss : 0.0004536476977693837\n",
      " iter : 300 avg_loss : 0.0006677317562468943\n",
      " iter : 400 avg_loss : 0.0006993025805937237\n",
      "epoch : 137, total train loss : 0.2917375509460953\n"
     ]
    },
    {
     "data": {
      "application/vnd.jupyter.widget-view+json": {
       "model_id": "2b6106ad9b654a9cb74c684c1a672db3",
       "version_major": 2,
       "version_minor": 0
      },
      "text/plain": [
       "  0%|          | 0/468 [00:00<?, ?it/s]"
      ]
     },
     "metadata": {},
     "output_type": "display_data"
    },
    {
     "name": "stdout",
     "output_type": "stream",
     "text": [
      " iter : 100 avg_loss : 0.0009035081949866708\n",
      " iter : 200 avg_loss : 0.0010372154072075545\n",
      " iter : 300 avg_loss : 0.0007645528550898462\n",
      " iter : 400 avg_loss : 0.0006784491101502966\n",
      "epoch : 138, total train loss : 0.29289933019390446\n"
     ]
    },
    {
     "data": {
      "application/vnd.jupyter.widget-view+json": {
       "model_id": "49b4c42b895a4699aeeb8c6563703530",
       "version_major": 2,
       "version_minor": 0
      },
      "text/plain": [
       "  0%|          | 0/468 [00:00<?, ?it/s]"
      ]
     },
     "metadata": {},
     "output_type": "display_data"
    },
    {
     "name": "stdout",
     "output_type": "stream",
     "text": [
      " iter : 100 avg_loss : 0.0003696267484303917\n",
      " iter : 200 avg_loss : 0.0003822300467363604\n",
      " iter : 300 avg_loss : 0.0006352866158857513\n",
      " iter : 400 avg_loss : 0.0008697717832614948\n",
      "epoch : 139, total train loss : 0.5100640003756709\n"
     ]
    },
    {
     "data": {
      "application/vnd.jupyter.widget-view+json": {
       "model_id": "7ba3c1fd08e6425caafaca98899425eb",
       "version_major": 2,
       "version_minor": 0
      },
      "text/plain": [
       "  0%|          | 0/468 [00:00<?, ?it/s]"
      ]
     },
     "metadata": {},
     "output_type": "display_data"
    },
    {
     "name": "stdout",
     "output_type": "stream",
     "text": [
      " iter : 100 avg_loss : 0.0007377679623004951\n",
      " iter : 200 avg_loss : 0.0007559696615868461\n",
      " iter : 300 avg_loss : 0.00079536848030538\n",
      " iter : 400 avg_loss : 0.0008075685226975083\n",
      "epoch : 140, total train loss : 0.3481167720221663\n"
     ]
    },
    {
     "data": {
      "application/vnd.jupyter.widget-view+json": {
       "model_id": "7166ca2b3c064325b54d8ffe616bf9ee",
       "version_major": 2,
       "version_minor": 0
      },
      "text/plain": [
       "  0%|          | 0/468 [00:00<?, ?it/s]"
      ]
     },
     "metadata": {},
     "output_type": "display_data"
    },
    {
     "name": "stdout",
     "output_type": "stream",
     "text": [
      " iter : 100 avg_loss : 0.0006872934633071282\n",
      " iter : 200 avg_loss : 0.0007932095864968858\n",
      " iter : 300 avg_loss : 0.0007554933837554738\n",
      " iter : 400 avg_loss : 0.0008425560614648475\n",
      "epoch : 141, total train loss : 0.3826047377692703\n"
     ]
    },
    {
     "data": {
      "application/vnd.jupyter.widget-view+json": {
       "model_id": "e7ea3f968a4646bbbfebacfc374c75cb",
       "version_major": 2,
       "version_minor": 0
      },
      "text/plain": [
       "  0%|          | 0/468 [00:00<?, ?it/s]"
      ]
     },
     "metadata": {},
     "output_type": "display_data"
    },
    {
     "name": "stdout",
     "output_type": "stream",
     "text": [
      " iter : 100 avg_loss : 0.0003855586418671919\n",
      " iter : 200 avg_loss : 0.0003855672374815811\n",
      " iter : 300 avg_loss : 0.00046284403580782417\n",
      " iter : 400 avg_loss : 0.0004344852503934327\n",
      "epoch : 142, total train loss : 0.21267842792743608\n"
     ]
    },
    {
     "data": {
      "application/vnd.jupyter.widget-view+json": {
       "model_id": "015e1995cde94952b30b5451e860f177",
       "version_major": 2,
       "version_minor": 0
      },
      "text/plain": [
       "  0%|          | 0/468 [00:00<?, ?it/s]"
      ]
     },
     "metadata": {},
     "output_type": "display_data"
    },
    {
     "name": "stdout",
     "output_type": "stream",
     "text": [
      " iter : 100 avg_loss : 0.0012786145152963969\n",
      " iter : 200 avg_loss : 0.0020936907976143006\n",
      " iter : 300 avg_loss : 0.0015719531673036612\n",
      " iter : 400 avg_loss : 0.001265092562762007\n",
      "epoch : 143, total train loss : 1.0583739875034723\n"
     ]
    },
    {
     "data": {
      "application/vnd.jupyter.widget-view+json": {
       "model_id": "ecd43d2eef7e444cba4ee3de56c9e684",
       "version_major": 2,
       "version_minor": 0
      },
      "text/plain": [
       "  0%|          | 0/468 [00:00<?, ?it/s]"
      ]
     },
     "metadata": {},
     "output_type": "display_data"
    },
    {
     "name": "stdout",
     "output_type": "stream",
     "text": [
      " iter : 100 avg_loss : 0.0019557488519785695\n",
      " iter : 200 avg_loss : 0.001398482653944484\n",
      " iter : 300 avg_loss : 0.0012214218323705003\n",
      " iter : 400 avg_loss : 0.0010375011289306712\n",
      "epoch : 144, total train loss : 0.4951829238676737\n"
     ]
    },
    {
     "data": {
      "application/vnd.jupyter.widget-view+json": {
       "model_id": "16e9b7ef093049deaa80a5d068ce83c3",
       "version_major": 2,
       "version_minor": 0
      },
      "text/plain": [
       "  0%|          | 0/468 [00:00<?, ?it/s]"
      ]
     },
     "metadata": {},
     "output_type": "display_data"
    },
    {
     "name": "stdout",
     "output_type": "stream",
     "text": [
      " iter : 100 avg_loss : 0.00010254625836864762\n",
      " iter : 200 avg_loss : 0.00022049221469245595\n",
      " iter : 300 avg_loss : 0.0003299877866557684\n",
      " iter : 400 avg_loss : 0.00030300973241139675\n",
      "epoch : 145, total train loss : 0.19850193658839999\n"
     ]
    },
    {
     "data": {
      "application/vnd.jupyter.widget-view+json": {
       "model_id": "f2468f3aabe3495b8cb4a0c52dab2f3e",
       "version_major": 2,
       "version_minor": 0
      },
      "text/plain": [
       "  0%|          | 0/468 [00:00<?, ?it/s]"
      ]
     },
     "metadata": {},
     "output_type": "display_data"
    },
    {
     "name": "stdout",
     "output_type": "stream",
     "text": [
      " iter : 100 avg_loss : 0.00025363782335716676\n",
      " iter : 200 avg_loss : 0.0003962176106162474\n",
      " iter : 300 avg_loss : 0.00027321179165359883\n",
      " iter : 400 avg_loss : 0.00035160950814812965\n",
      "epoch : 146, total train loss : 0.15139747498352563\n"
     ]
    },
    {
     "data": {
      "application/vnd.jupyter.widget-view+json": {
       "model_id": "6d9d76d87a674bb1b33e9d17d32691c4",
       "version_major": 2,
       "version_minor": 0
      },
      "text/plain": [
       "  0%|          | 0/468 [00:00<?, ?it/s]"
      ]
     },
     "metadata": {},
     "output_type": "display_data"
    },
    {
     "name": "stdout",
     "output_type": "stream",
     "text": [
      " iter : 100 avg_loss : 0.0007899614152248091\n",
      " iter : 200 avg_loss : 0.000699525782057151\n",
      " iter : 300 avg_loss : 0.0005611686431084687\n",
      " iter : 400 avg_loss : 0.0006462746202920755\n",
      "epoch : 147, total train loss : 0.30747866228614384\n"
     ]
    },
    {
     "data": {
      "application/vnd.jupyter.widget-view+json": {
       "model_id": "2db8083a0c8f4635a4e6cb9b1a37fb34",
       "version_major": 2,
       "version_minor": 0
      },
      "text/plain": [
       "  0%|          | 0/468 [00:00<?, ?it/s]"
      ]
     },
     "metadata": {},
     "output_type": "display_data"
    },
    {
     "name": "stdout",
     "output_type": "stream",
     "text": [
      " iter : 100 avg_loss : 0.00039769898943063707\n",
      " iter : 200 avg_loss : 0.00043898285217522923\n",
      " iter : 300 avg_loss : 0.0004631337761755579\n",
      " iter : 400 avg_loss : 0.0003704698072254331\n",
      "epoch : 148, total train loss : 0.20154901650309398\n"
     ]
    },
    {
     "data": {
      "application/vnd.jupyter.widget-view+json": {
       "model_id": "2fb791cae02b49cdb6d019f81b23ced3",
       "version_major": 2,
       "version_minor": 0
      },
      "text/plain": [
       "  0%|          | 0/468 [00:00<?, ?it/s]"
      ]
     },
     "metadata": {},
     "output_type": "display_data"
    },
    {
     "name": "stdout",
     "output_type": "stream",
     "text": [
      " iter : 100 avg_loss : 9.328969730773906e-05\n",
      " iter : 200 avg_loss : 0.0004496960959735929\n",
      " iter : 300 avg_loss : 0.00046146923683627016\n",
      " iter : 400 avg_loss : 0.00038857670411175606\n",
      "epoch : 149, total train loss : 0.4774215957090746\n"
     ]
    },
    {
     "data": {
      "application/vnd.jupyter.widget-view+json": {
       "model_id": "824a32196237473891db1cdc116e3e34",
       "version_major": 2,
       "version_minor": 0
      },
      "text/plain": [
       "  0%|          | 0/468 [00:00<?, ?it/s]"
      ]
     },
     "metadata": {},
     "output_type": "display_data"
    },
    {
     "name": "stdout",
     "output_type": "stream",
     "text": [
      " iter : 100 avg_loss : 0.0023315143496256494\n",
      " iter : 200 avg_loss : 0.0017471480588847044\n",
      " iter : 300 avg_loss : 0.001371300665361256\n",
      " iter : 400 avg_loss : 0.0013035568622137817\n",
      "epoch : 150, total train loss : 0.5520148157675067\n"
     ]
    }
   ],
   "source": [
    "model.train()\n",
    "model_save_path = './weight_train_2012/'\n",
    "\n",
    "if not os.path.isdir(model_save_path):                                                           \n",
    "    os.mkdir(model_save_path)\n",
    "\n",
    "loss_history = []\n",
    "for epoch in range(num_epoch):\n",
    "    epoch_loss = 0\n",
    "    for batch_id, (train_x, train_y, _) in enumerate(tqdm(train_dataloader)):\n",
    "        optimizer.zero_grad()\n",
    "        train_x = normalize(train_x)\n",
    "        preds = model(train_x.float().to(device))\n",
    "        loss = criterion(preds.reshape(-1), train_y.float().to(device))\n",
    "        loss.backward()\n",
    "        optimizer.step()\n",
    "        epoch_loss += loss.item()\n",
    "        \n",
    "        if (batch_id+1)% 100 == 0:\n",
    "            print(f' iter : {batch_id+1} avg_loss : {epoch_loss/(batch_id+1)}')\n",
    "            \n",
    "    loss_history.append(epoch_loss)\n",
    "    print(f'epoch : {epoch+1}, total train loss : {epoch_loss}')\n",
    "    with open(f'{model_save_path}model_epoch_{epoch+1}.pt','wb') as f:\n",
    "        torch.save({\n",
    "            'state': model.state_dict(),\n",
    "            'optimizer': optimizer.state_dict(),\n",
    "            'epoch': epoch,\n",
    "            'loss_history': loss_history,\n",
    "        }, f)\n",
    "\n",
    "print('Train finished.')"
   ]
  }
 ],
 "metadata": {
  "kernelspec": {
   "display_name": "Python 3",
   "language": "python",
   "name": "python3"
  },
  "language_info": {
   "codemirror_mode": {
    "name": "ipython",
    "version": 3
   },
   "file_extension": ".py",
   "mimetype": "text/x-python",
   "name": "python",
   "nbconvert_exporter": "python",
   "pygments_lexer": "ipython3",
   "version": "3.8.3"
  }
 },
 "nbformat": 4,
 "nbformat_minor": 4
}
